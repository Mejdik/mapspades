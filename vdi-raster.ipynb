{
 "cells": [
  {
   "cell_type": "markdown",
   "id": "4f5838e1-8c6d-449e-968a-1cb567e54baf",
   "metadata": {},
   "source": [
    "## Generation of VDI Rasters\n",
    "This notebook generates both a categorical and a continuous VDI raster for a given year, based on input rasters of two spectral indices and a linear model combining these indices."
   ]
  },
  {
   "cell_type": "code",
   "execution_count": 12,
   "id": "c1c6e723-8430-4bf0-86af-04969ff4f2bd",
   "metadata": {
    "tags": []
   },
   "outputs": [],
   "source": [
    "import json\n",
    "from osgeo import gdal\n",
    "import math\n",
    "import numpy as np\n",
    "import sys"
   ]
  },
  {
   "cell_type": "markdown",
   "id": "cececb09-321e-4f70-a6f5-d3d4cd6d7b42",
   "metadata": {},
   "source": [
    "In this example, the VDI model combines MSAVI and TGSI. The model provides the slope of the linear model and the boundaries of the vegetation classes."
   ]
  },
  {
   "cell_type": "code",
   "execution_count": 20,
   "id": "cebe427b-7fc6-4296-a79d-54bfd6840855",
   "metadata": {
    "tags": []
   },
   "outputs": [],
   "source": [
    "vdi_model_file = './models/vdi-msavi-tgsi.json'\n",
    "x_index = 'msavi'\n",
    "y_index = 'tgsi'\n",
    "nodata_value = 255\n",
    "\n",
    "with open(vdi_model_file, 'r') as json_file:\n",
    "    model = json.load(json_file)\n",
    "\n",
    "slope = model['slope']\n",
    "breaks = model['classes-limits']\n",
    "limits_vals = {x_index: model['x-axis-limits'], y_index: model['y-axis-limits']}"
   ]
  },
  {
   "cell_type": "markdown",
   "id": "babc0cef-62ef-49bb-9d1e-b2b7f916f97b",
   "metadata": {},
   "source": [
    "We open the MSAVI and TGSI raster files of the year 2022 and read them as numpy arrays."
   ]
  },
  {
   "cell_type": "code",
   "execution_count": 21,
   "id": "4f9aea63-1a22-4af6-9a90-f45dd8bad6d5",
   "metadata": {},
   "outputs": [],
   "source": [
    "# Open the GeoTIFF files\n",
    "xfile_name = './rasters/msavi_2022.tif'\n",
    "yfile_name = './rasters/tgsi_2022.tif'\n",
    "output_cont_file  = './rasters/vdi_cont_2022.tif'\n",
    "output_cat_file  = './rasters/vdi_cat_2022.tif'\n",
    "\n",
    "xfile = gdal.Open(xfile_name)\n",
    "xarray = xfile.GetRasterBand(1).ReadAsArray()\n",
    "yfile = gdal.Open(yfile_name)\n",
    "yarray= yfile.GetRasterBand(1).ReadAsArray()"
   ]
  },
  {
   "cell_type": "code",
   "execution_count": 23,
   "id": "e76d3bb9-fb4c-4379-af66-d66eb31c0ad5",
   "metadata": {},
   "outputs": [
    {
     "name": "stdout",
     "output_type": "stream",
     "text": [
      "Raster dimensions: 38066*20850 (total number of pixels: 793676100)\n"
     ]
    }
   ],
   "source": [
    "# Get the number of columns and rows (i.e., the image dimensions)\n",
    "xsize = xfile.RasterXSize\n",
    "ysize = yfile.RasterYSize\n",
    "print(f'Raster dimensions: {xsize}*{ysize} (total number of pixels: {xsize * ysize})')"
   ]
  },
  {
   "cell_type": "markdown",
   "id": "177181d1-0906-4e0c-b31f-7248c5150a91",
   "metadata": {},
   "source": [
    "This function normalizes the values of each array of spectral indices."
   ]
  },
  {
   "cell_type": "code",
   "execution_count": null,
   "id": "8949d892-0d31-48dd-beab-a60b42eb0a3d",
   "metadata": {},
   "outputs": [],
   "source": [
    "def normalize(ind,axis):\n",
    "    return (ind - limits_vals[axis][0]) / (limits_vals[axis][1] - limits_vals[axis][0])"
   ]
  },
  {
   "cell_type": "markdown",
   "id": "1228503a-4d25-49c1-b36a-d9d66d37f017",
   "metadata": {},
   "source": [
    "- Calculate the resulting VDI array as continuous values.\n",
    "- Calculate the resulting VDI array as discrete (categorical) values."
   ]
  },
  {
   "cell_type": "code",
   "execution_count": 16,
   "id": "1d173cf8-1e16-4476-b94a-0fde51d3a649",
   "metadata": {},
   "outputs": [],
   "source": [
    "cont_raster = np.zeros((xarray.shape[0],xarray.shape[1]),dtype=np.float32)\n",
    "cat_raster = np.zeros((xarray.shape[0],xarray.shape[1]),dtype=np.uint8)\n",
    "for i in range(xarray.shape[0]):\n",
    "    for j in range(xarray.shape[1]):\n",
    "        if math.isfinite(xarray[i,j]):\n",
    "            cont_raster[i,j] = slope * normalize(xarray[i,j],x_index)-normalize(yarray[i,j],y_index)\n",
    "            if cont_raster[i,j] <= breaks[1]:\n",
    "                cat_raster[i,j] = 0\n",
    "            elif cont_raster[i,j] <= breaks[2]:\n",
    "                cat_raster[i,j] = 1\n",
    "            elif cont_raster[i,j] <= breaks[3]:\n",
    "                cat_raster[i,j] = 2\n",
    "            elif cont_raster[i,j] <= breaks[4]:\n",
    "                cat_raster[i,j] = 3\n",
    "            else:\n",
    "                cat_raster[i,j] = 4\n",
    "        else:\n",
    "            cont_raster[i,j] = nodata_value \n",
    "            cat_raster[i,j] = nodata_value"
   ]
  },
  {
   "cell_type": "markdown",
   "id": "e1f27f7f-041e-4baa-b268-f8c1d31e6fc2",
   "metadata": {},
   "source": [
    "Save the continuous VDI raster in geotiff format."
   ]
  },
  {
   "cell_type": "code",
   "execution_count": 17,
   "id": "f01dd892-039c-4018-b97e-ca710cfbe9d2",
   "metadata": {},
   "outputs": [
    {
     "name": "stderr",
     "output_type": "stream",
     "text": [
      "Warning 1: PROJ: proj_create_from_database: Open of /home/jovyan/.conda-envs/myenv/share/proj failed\n"
     ]
    },
    {
     "data": {
      "text/plain": [
       "0"
      ]
     },
     "execution_count": 17,
     "metadata": {},
     "output_type": "execute_result"
    }
   ],
   "source": [
    "# Create a new TIFF file for the modified image\n",
    "driver = gdal.GetDriverByName(\"GTiff\")\n",
    "out_cont = driver.Create(output_cont_file, xsize, ysize, 1, gdal.GDT_Float32)\n",
    "\n",
    "# Write the modified image to the output file\n",
    "out_band = out_cont.GetRasterBand(1)\n",
    "out_band.WriteArray(cont_raster)\n",
    "out_band.SetNoDataValue(nodata_value)\n",
    "\n",
    "# Set the georeferencing information from the input file\n",
    "out_cont.SetGeoTransform(xfile.GetGeoTransform())\n",
    "out_cont.SetProjection(xfile.GetProjection())"
   ]
  },
  {
   "cell_type": "markdown",
   "id": "57625074-4894-417f-a8a8-6ce0824bf19e",
   "metadata": {},
   "source": [
    "Save the categorical VDI raster in geotiff format."
   ]
  },
  {
   "cell_type": "code",
   "execution_count": 18,
   "id": "3541462c-a7c6-4d55-a239-28430ea79e77",
   "metadata": {},
   "outputs": [
    {
     "name": "stderr",
     "output_type": "stream",
     "text": [
      "ERROR 1: PROJ: proj_create_from_name: Open of /home/jovyan/.conda-envs/myenv/share/proj failed\n",
      "ERROR 1: PROJ: proj_create_from_name: Open of /home/jovyan/.conda-envs/myenv/share/proj failed\n"
     ]
    }
   ],
   "source": [
    "# Create a new TIFF file for the modified image\n",
    "driver = gdal.GetDriverByName(\"GTiff\")\n",
    "out_cat = driver.Create(output_cat_file, xsize, ysize, 1, gdal.GDT_Byte)\n",
    "\n",
    "# Write the modified image to the output file\n",
    "out_band = out_cat.GetRasterBand(1)\n",
    "out_band.WriteArray(cat_raster)\n",
    "out_band.SetNoDataValue(nodata_value)\n",
    "\n",
    "# Set the georeferencing information from the input file\n",
    "out_cat.SetGeoTransform(xfile.GetGeoTransform())\n",
    "out_cat.SetProjection(xfile.GetProjection())\n",
    "\n",
    "# Close the input and output files\n",
    "xfile = None\n",
    "yfile = None\n",
    "out_cont = None \n",
    "out_cat = None \n"
   ]
  }
 ],
 "metadata": {
  "kernelspec": {
   "display_name": "myenv",
   "language": "python",
   "name": "myenv"
  },
  "language_info": {
   "codemirror_mode": {
    "name": "ipython",
    "version": 3
   },
   "file_extension": ".py",
   "mimetype": "text/x-python",
   "name": "python",
   "nbconvert_exporter": "python",
   "pygments_lexer": "ipython3",
   "version": "3.12.0"
  }
 },
 "nbformat": 4,
 "nbformat_minor": 5
}
