{
 "cells": [
  {
   "cell_type": "markdown",
   "id": "b5e8d644-5057-4f7c-b7db-37dbaf847d33",
   "metadata": {},
   "source": [
    "# Sankey plot\n",
    "In Python. Displays transition flows between the 5 categories during each 4 years time interval between 2002 and 2022.\n",
    "- **Input**: Transition level data obtained from the intensity analysis (TIA_1).\n",
    "- **Output**: Sankey plot."
   ]
  },
  {
   "cell_type": "code",
   "execution_count": 6,
   "id": "ae2ad341-408e-407a-ac75-156669d4e501",
   "metadata": {
    "tags": []
   },
   "outputs": [
    {
     "data": {
      "application/vnd.plotly.v1+json": {
       "config": {
        "plotlyServerURL": "https://plot.ly"
       },
       "data": [
        {
         "arrangement": "snap",
         "link": {
          "color": [
           "rgba(255, 255, 0, 0.6)",
           "rgba(255, 165, 0, 0.6)",
           "rgba(165,42,42, 0.6)",
           "rgba(144, 238, 144, 0.6)",
           "rgba(0, 128, 0, 0.6)",
           "rgba(255, 255, 0, 0.6)",
           "rgba(255, 165, 0, 0.6)",
           "rgba(165,42,42, 0.6)",
           "rgba(144, 238, 144, 0.6)",
           "rgba(0, 128, 0, 0.6)",
           "rgba(255, 255, 0, 0.6)",
           "rgba(255, 165, 0, 0.6)",
           "rgba(165,42,42, 0.6)",
           "rgba(144, 238, 144, 0.6)",
           "rgba(0, 128, 0, 0.6)",
           "rgba(255, 255, 0, 0.6)",
           "rgba(255, 165, 0, 0.6)",
           "rgba(165,42,42, 0.6)",
           "rgba(144, 238, 144, 0.6)",
           "rgba(0, 128, 0, 0.6)",
           "rgba(255, 255, 0, 0.6)",
           "rgba(255, 165, 0, 0.6)",
           "rgba(165,42,42, 0.6)",
           "rgba(144, 238, 144, 0.6)",
           "rgba(0, 128, 0, 0.6)",
           "rgba(255, 255, 0, 0.6)",
           "rgba(255, 165, 0, 0.6)",
           "rgba(165,42,42, 0.6)",
           "rgba(144, 238, 144, 0.6)",
           "rgba(0, 128, 0, 0.6)",
           "rgba(255, 255, 0, 0.6)",
           "rgba(255, 165, 0, 0.6)",
           "rgba(165,42,42, 0.6)",
           "rgba(144, 238, 144, 0.6)",
           "rgba(0, 128, 0, 0.6)",
           "rgba(255, 255, 0, 0.6)",
           "rgba(255, 165, 0, 0.6)",
           "rgba(165,42,42, 0.6)",
           "rgba(144, 238, 144, 0.6)",
           "rgba(0, 128, 0, 0.6)",
           "rgba(255, 255, 0, 0.6)",
           "rgba(255, 165, 0, 0.6)",
           "rgba(165,42,42, 0.6)",
           "rgba(144, 238, 144, 0.6)",
           "rgba(0, 128, 0, 0.6)",
           "rgba(255, 255, 0, 0.6)",
           "rgba(255, 165, 0, 0.6)",
           "rgba(165,42,42, 0.6)",
           "rgba(144, 238, 144, 0.6)",
           "rgba(0, 128, 0, 0.6)",
           "rgba(255, 255, 0, 0.6)",
           "rgba(255, 165, 0, 0.6)",
           "rgba(165,42,42, 0.6)",
           "rgba(144, 238, 144, 0.6)",
           "rgba(0, 128, 0, 0.6)",
           "rgba(255, 255, 0, 0.6)",
           "rgba(255, 165, 0, 0.6)",
           "rgba(165,42,42, 0.6)",
           "rgba(144, 238, 144, 0.6)",
           "rgba(0, 128, 0, 0.6)",
           "rgba(255, 255, 0, 0.6)",
           "rgba(255, 165, 0, 0.6)",
           "rgba(165,42,42, 0.6)",
           "rgba(144, 238, 144, 0.6)",
           "rgba(0, 128, 0, 0.6)",
           "rgba(255, 255, 0, 0.6)",
           "rgba(255, 165, 0, 0.6)",
           "rgba(165,42,42, 0.6)",
           "rgba(144, 238, 144, 0.6)",
           "rgba(0, 128, 0, 0.6)",
           "rgba(255, 255, 0, 0.6)",
           "rgba(255, 165, 0, 0.6)",
           "rgba(165,42,42, 0.6)",
           "rgba(144, 238, 144, 0.6)",
           "rgba(0, 128, 0, 0.6)",
           "rgba(255, 255, 0, 0.6)",
           "rgba(255, 165, 0, 0.6)",
           "rgba(165,42,42, 0.6)",
           "rgba(144, 238, 144, 0.6)",
           "rgba(0, 128, 0, 0.6)",
           "rgba(255, 255, 0, 0.6)",
           "rgba(255, 165, 0, 0.6)",
           "rgba(165,42,42, 0.6)",
           "rgba(144, 238, 144, 0.6)",
           "rgba(0, 128, 0, 0.6)",
           "rgba(255, 255, 0, 0.6)",
           "rgba(255, 165, 0, 0.6)",
           "rgba(165,42,42, 0.6)",
           "rgba(144, 238, 144, 0.6)",
           "rgba(0, 128, 0, 0.6)",
           "rgba(255, 255, 0, 0.6)",
           "rgba(255, 165, 0, 0.6)",
           "rgba(165,42,42, 0.6)",
           "rgba(144, 238, 144, 0.6)",
           "rgba(0, 128, 0, 0.6)",
           "rgba(255, 255, 0, 0.6)",
           "rgba(255, 165, 0, 0.6)",
           "rgba(165,42,42, 0.6)",
           "rgba(144, 238, 144, 0.6)",
           "rgba(0, 128, 0, 0.6)",
           "rgba(255, 255, 0, 0.6)",
           "rgba(255, 165, 0, 0.6)",
           "rgba(165,42,42, 0.6)",
           "rgba(144, 238, 144, 0.6)",
           "rgba(0, 128, 0, 0.6)",
           "rgba(255, 255, 0, 0.6)",
           "rgba(255, 165, 0, 0.6)",
           "rgba(165,42,42, 0.6)",
           "rgba(144, 238, 144, 0.6)",
           "rgba(0, 128, 0, 0.6)",
           "rgba(255, 255, 0, 0.6)",
           "rgba(255, 165, 0, 0.6)",
           "rgba(165,42,42, 0.6)",
           "rgba(144, 238, 144, 0.6)",
           "rgba(0, 128, 0, 0.6)",
           "rgba(255, 255, 0, 0.6)",
           "rgba(255, 165, 0, 0.6)",
           "rgba(165,42,42, 0.6)",
           "rgba(144, 238, 144, 0.6)",
           "rgba(0, 128, 0, 0.6)",
           "rgba(255, 255, 0, 0.6)",
           "rgba(255, 165, 0, 0.6)",
           "rgba(165,42,42, 0.6)",
           "rgba(144, 238, 144, 0.6)",
           "rgba(0, 128, 0, 0.6)"
          ],
          "label": [
           105667.0056,
           32876.7219,
           2556.117,
           78.4683,
           33.9264,
           38281.6143,
           63411.228,
           12479.778,
           842.9175,
           158.9661,
           6208.5213,
           23200.7247,
           19141.371,
           2822.5458,
           215.6796,
           465.1083,
           2277.1377,
           5112.0945,
           6139.3869,
           421.2351,
           99.5553,
           348.9534,
           441.8082,
           1506.5928,
           906.6744,
           64106.2062,
           6636.8664,
           819.8379,
           31.5468,
           33.6969,
           62018.0217,
           49260.3147,
           5334.4674,
           386.3655,
           113.1363,
           14016.0231,
           52192.2141,
           29278.0485,
           2091.321,
           258.1992,
           1044.5868,
           6789.4983,
           15342.0993,
           9023.1498,
           677.8656,
           27.4014,
           295.6104,
           814.3893,
           2882.5794,
           2220.6861,
           68031.9297,
           68239.3671,
           15742.6164,
           1234.4598,
           40.0158,
           2946.3165,
           43976.8341,
           60708.0375,
           9195.3648,
           479.1078,
           401.7267,
           3451.3866,
           18796.887,
           14354.6922,
           995.4828,
           235.9422,
           1361.7216,
           2346.0561,
           7793.1819,
           2877.12,
           12.2391,
           82.9962,
           242.2089,
           299.5011,
           1848.9402,
           127162.8513,
           27996.0183,
           2801.9628,
           1018.4283,
           55.773,
           22859.8443,
           68826.2688,
           9714.4173,
           1933.5663,
           202.275,
           2236.779,
           16710.6114,
           20018.6352,
           2373.8274,
           136.8162,
           1008.5022,
           3553.74,
           5075.1567,
           8370.6309,
           528.9012,
           20.412,
           219.0222,
           390.0033,
           917.5689,
           1562.1201,
           135588.8934,
           30305.8935,
           3263.0364,
           1332.5526,
           10.3527,
           21301.5231,
           61994.0862,
           18305.4609,
           3585.1581,
           173.7783,
           1956.4515,
           10052.3844,
           17591.9562,
           5788.3905,
           392.6763,
           151.4772,
           982.9332,
           2057.7807,
           7246.0008,
           1155.2886,
           36.6885,
           201.0744,
           258.435,
           584.829,
           1377.0306
          ],
          "source": [
           0,
           1,
           2,
           3,
           4,
           0,
           1,
           2,
           3,
           4,
           0,
           1,
           2,
           3,
           4,
           0,
           1,
           2,
           3,
           4,
           0,
           1,
           2,
           3,
           4,
           5,
           6,
           7,
           8,
           9,
           5,
           6,
           7,
           8,
           9,
           5,
           6,
           7,
           8,
           9,
           5,
           6,
           7,
           8,
           9,
           5,
           6,
           7,
           8,
           9,
           10,
           11,
           12,
           13,
           14,
           10,
           11,
           12,
           13,
           14,
           10,
           11,
           12,
           13,
           14,
           10,
           11,
           12,
           13,
           14,
           10,
           11,
           12,
           13,
           14,
           15,
           16,
           17,
           18,
           19,
           15,
           16,
           17,
           18,
           19,
           15,
           16,
           17,
           18,
           19,
           15,
           16,
           17,
           18,
           19,
           15,
           16,
           17,
           18,
           19,
           20,
           21,
           22,
           23,
           24,
           20,
           21,
           22,
           23,
           24,
           20,
           21,
           22,
           23,
           24,
           20,
           21,
           22,
           23,
           24,
           20,
           21,
           22,
           23,
           24
          ],
          "target": [
           5,
           5,
           5,
           5,
           5,
           6,
           6,
           6,
           6,
           6,
           7,
           7,
           7,
           7,
           7,
           8,
           8,
           8,
           8,
           8,
           9,
           9,
           9,
           9,
           9,
           10,
           10,
           10,
           10,
           10,
           11,
           11,
           11,
           11,
           11,
           12,
           12,
           12,
           12,
           12,
           13,
           13,
           13,
           13,
           13,
           14,
           14,
           14,
           14,
           14,
           15,
           15,
           15,
           15,
           15,
           16,
           16,
           16,
           16,
           16,
           17,
           17,
           17,
           17,
           17,
           18,
           18,
           18,
           18,
           18,
           19,
           19,
           19,
           19,
           19,
           20,
           20,
           20,
           20,
           20,
           21,
           21,
           21,
           21,
           21,
           22,
           22,
           22,
           22,
           22,
           23,
           23,
           23,
           23,
           23,
           24,
           24,
           24,
           24,
           24,
           25,
           25,
           25,
           25,
           25,
           26,
           26,
           26,
           26,
           26,
           27,
           27,
           27,
           27,
           27,
           28,
           28,
           28,
           28,
           28,
           29,
           29,
           29,
           29,
           29
          ],
          "value": [
           105667.0056,
           32876.7219,
           2556.117,
           78.4683,
           33.9264,
           38281.6143,
           63411.228,
           12479.778,
           842.9175,
           158.9661,
           6208.5213,
           23200.7247,
           19141.371,
           2822.5458,
           215.6796,
           465.1083,
           2277.1377,
           5112.0945,
           6139.3869,
           421.2351,
           99.5553,
           348.9534,
           441.8082,
           1506.5928,
           906.6744,
           64106.2062,
           6636.8664,
           819.8379,
           31.5468,
           33.6969,
           62018.0217,
           49260.3147,
           5334.4674,
           386.3655,
           113.1363,
           14016.0231,
           52192.2141,
           29278.0485,
           2091.321,
           258.1992,
           1044.5868,
           6789.4983,
           15342.0993,
           9023.1498,
           677.8656,
           27.4014,
           295.6104,
           814.3893,
           2882.5794,
           2220.6861,
           68031.9297,
           68239.3671,
           15742.6164,
           1234.4598,
           40.0158,
           2946.3165,
           43976.8341,
           60708.0375,
           9195.3648,
           479.1078,
           401.7267,
           3451.3866,
           18796.887,
           14354.6922,
           995.4828,
           235.9422,
           1361.7216,
           2346.0561,
           7793.1819,
           2877.12,
           12.2391,
           82.9962,
           242.2089,
           299.5011,
           1848.9402,
           127162.8513,
           27996.0183,
           2801.9628,
           1018.4283,
           55.773,
           22859.8443,
           68826.2688,
           9714.4173,
           1933.5663,
           202.275,
           2236.779,
           16710.6114,
           20018.6352,
           2373.8274,
           136.8162,
           1008.5022,
           3553.74,
           5075.1567,
           8370.6309,
           528.9012,
           20.412,
           219.0222,
           390.0033,
           917.5689,
           1562.1201,
           135588.8934,
           30305.8935,
           3263.0364,
           1332.5526,
           10.3527,
           21301.5231,
           61994.0862,
           18305.4609,
           3585.1581,
           173.7783,
           1956.4515,
           10052.3844,
           17591.9562,
           5788.3905,
           392.6763,
           151.4772,
           982.9332,
           2057.7807,
           7246.0008,
           1155.2886,
           36.6885,
           201.0744,
           258.435,
           584.829,
           1377.0306
          ]
         },
         "node": {
          "color": [
           "rgba(255, 255, 0, 1.0)",
           "rgba(255, 165, 0, 1.0)",
           "rgba(165,42,42, 1.0)",
           "rgba(144, 238, 144, 1.0)",
           "rgba(0, 128, 0, 1.0)",
           "rgba(255, 255, 0, 1.0)",
           "rgba(255, 165, 0, 1.0)",
           "rgba(165,42,42, 1.0)",
           "rgba(144, 238, 144, 1.0)",
           "rgba(0, 128, 0, 1.0)",
           "rgba(255, 255, 0, 1.0)",
           "rgba(255, 165, 0, 1.0)",
           "rgba(165,42,42, 1.0)",
           "rgba(144, 238, 144, 1.0)",
           "rgba(0, 128, 0, 1.0)",
           "rgba(255, 255, 0, 1.0)",
           "rgba(255, 165, 0, 1.0)",
           "rgba(165,42,42, 1.0)",
           "rgba(144, 238, 144, 1.0)",
           "rgba(0, 128, 0, 1.0)",
           "rgba(255, 255, 0, 1.0)",
           "rgba(255, 165, 0, 1.0)",
           "rgba(165,42,42, 1.0)",
           "rgba(144, 238, 144, 1.0)",
           "rgba(0, 128, 0, 1.0)",
           "rgba(255, 255, 0, 1.0)",
           "rgba(255, 165, 0, 1.0)",
           "rgba(165,42,42, 1.0)",
           "rgba(144, 238, 144, 1.0)",
           "rgba(0, 128, 0, 1.0)"
          ],
          "label": [
           "Extreme 150.72",
           "Severe 122.11",
           "Moderate 39.73",
           "Light 11.39",
           "No 1.74",
           "141.21",
           "115.17",
           "51.59",
           "14.41",
           "3.3",
           "71.63",
           "117.11",
           "97.84",
           "32.88",
           "6.24",
           "153.29",
           "117.31",
           "38",
           "14.61",
           "2.49",
           "159.04",
           "103.54",
           "41.48",
           "18.54",
           "3.11",
           "170.5",
           "105.36",
           "35.78",
           "11.59",
           "2.46"
          ],
          "line": {
           "color": "black",
           "width": 1
          },
          "pad": 10,
          "thickness": 20
         },
         "type": "sankey"
        }
       ],
       "layout": {
        "annotations": [
         {
          "align": "left",
          "font": {
           "color": "black",
           "family": "Tahoma",
           "size": 12
          },
          "showarrow": false,
          "text": "2002",
          "x": 0,
          "xref": "x",
          "y": 1.08,
          "yref": "paper"
         },
         {
          "align": "left",
          "font": {
           "color": "black",
           "family": "Tahoma",
           "size": 12
          },
          "showarrow": false,
          "text": "2006",
          "x": 1,
          "xref": "x",
          "y": 1.08,
          "yref": "paper"
         },
         {
          "align": "left",
          "font": {
           "color": "black",
           "family": "Tahoma",
           "size": 12
          },
          "showarrow": false,
          "text": "2010",
          "x": 2,
          "xref": "x",
          "y": 1.08,
          "yref": "paper"
         },
         {
          "align": "left",
          "font": {
           "color": "black",
           "family": "Tahoma",
           "size": 12
          },
          "showarrow": false,
          "text": "2014",
          "x": 3,
          "xref": "x",
          "y": 1.08,
          "yref": "paper"
         },
         {
          "align": "left",
          "font": {
           "color": "black",
           "family": "Tahoma",
           "size": 12
          },
          "showarrow": false,
          "text": "2018",
          "x": 4,
          "xref": "x",
          "y": 1.08,
          "yref": "paper"
         },
         {
          "align": "left",
          "font": {
           "color": "black",
           "family": "Tahoma",
           "size": 12
          },
          "showarrow": false,
          "text": "2022",
          "x": 5,
          "xref": "x",
          "y": 1.08,
          "yref": "paper"
         }
        ],
        "autosize": true,
        "font": {
         "family": "Serif",
         "size": 11
        },
        "margin": {
         "b": 5,
         "l": 5,
         "r": 5,
         "t": 50
        },
        "showlegend": false,
        "template": {
         "data": {
          "bar": [
           {
            "error_x": {
             "color": "rgb(36,36,36)"
            },
            "error_y": {
             "color": "rgb(36,36,36)"
            },
            "marker": {
             "line": {
              "color": "white",
              "width": 0.5
             },
             "pattern": {
              "fillmode": "overlay",
              "size": 10,
              "solidity": 0.2
             }
            },
            "type": "bar"
           }
          ],
          "barpolar": [
           {
            "marker": {
             "line": {
              "color": "white",
              "width": 0.5
             },
             "pattern": {
              "fillmode": "overlay",
              "size": 10,
              "solidity": 0.2
             }
            },
            "type": "barpolar"
           }
          ],
          "carpet": [
           {
            "aaxis": {
             "endlinecolor": "rgb(36,36,36)",
             "gridcolor": "white",
             "linecolor": "white",
             "minorgridcolor": "white",
             "startlinecolor": "rgb(36,36,36)"
            },
            "baxis": {
             "endlinecolor": "rgb(36,36,36)",
             "gridcolor": "white",
             "linecolor": "white",
             "minorgridcolor": "white",
             "startlinecolor": "rgb(36,36,36)"
            },
            "type": "carpet"
           }
          ],
          "choropleth": [
           {
            "colorbar": {
             "outlinewidth": 1,
             "tickcolor": "rgb(36,36,36)",
             "ticks": "outside"
            },
            "type": "choropleth"
           }
          ],
          "contour": [
           {
            "colorbar": {
             "outlinewidth": 1,
             "tickcolor": "rgb(36,36,36)",
             "ticks": "outside"
            },
            "colorscale": [
             [
              0,
              "#440154"
             ],
             [
              0.1111111111111111,
              "#482878"
             ],
             [
              0.2222222222222222,
              "#3e4989"
             ],
             [
              0.3333333333333333,
              "#31688e"
             ],
             [
              0.4444444444444444,
              "#26828e"
             ],
             [
              0.5555555555555556,
              "#1f9e89"
             ],
             [
              0.6666666666666666,
              "#35b779"
             ],
             [
              0.7777777777777778,
              "#6ece58"
             ],
             [
              0.8888888888888888,
              "#b5de2b"
             ],
             [
              1,
              "#fde725"
             ]
            ],
            "type": "contour"
           }
          ],
          "contourcarpet": [
           {
            "colorbar": {
             "outlinewidth": 1,
             "tickcolor": "rgb(36,36,36)",
             "ticks": "outside"
            },
            "type": "contourcarpet"
           }
          ],
          "heatmap": [
           {
            "colorbar": {
             "outlinewidth": 1,
             "tickcolor": "rgb(36,36,36)",
             "ticks": "outside"
            },
            "colorscale": [
             [
              0,
              "#440154"
             ],
             [
              0.1111111111111111,
              "#482878"
             ],
             [
              0.2222222222222222,
              "#3e4989"
             ],
             [
              0.3333333333333333,
              "#31688e"
             ],
             [
              0.4444444444444444,
              "#26828e"
             ],
             [
              0.5555555555555556,
              "#1f9e89"
             ],
             [
              0.6666666666666666,
              "#35b779"
             ],
             [
              0.7777777777777778,
              "#6ece58"
             ],
             [
              0.8888888888888888,
              "#b5de2b"
             ],
             [
              1,
              "#fde725"
             ]
            ],
            "type": "heatmap"
           }
          ],
          "heatmapgl": [
           {
            "colorbar": {
             "outlinewidth": 1,
             "tickcolor": "rgb(36,36,36)",
             "ticks": "outside"
            },
            "colorscale": [
             [
              0,
              "#440154"
             ],
             [
              0.1111111111111111,
              "#482878"
             ],
             [
              0.2222222222222222,
              "#3e4989"
             ],
             [
              0.3333333333333333,
              "#31688e"
             ],
             [
              0.4444444444444444,
              "#26828e"
             ],
             [
              0.5555555555555556,
              "#1f9e89"
             ],
             [
              0.6666666666666666,
              "#35b779"
             ],
             [
              0.7777777777777778,
              "#6ece58"
             ],
             [
              0.8888888888888888,
              "#b5de2b"
             ],
             [
              1,
              "#fde725"
             ]
            ],
            "type": "heatmapgl"
           }
          ],
          "histogram": [
           {
            "marker": {
             "line": {
              "color": "white",
              "width": 0.6
             }
            },
            "type": "histogram"
           }
          ],
          "histogram2d": [
           {
            "colorbar": {
             "outlinewidth": 1,
             "tickcolor": "rgb(36,36,36)",
             "ticks": "outside"
            },
            "colorscale": [
             [
              0,
              "#440154"
             ],
             [
              0.1111111111111111,
              "#482878"
             ],
             [
              0.2222222222222222,
              "#3e4989"
             ],
             [
              0.3333333333333333,
              "#31688e"
             ],
             [
              0.4444444444444444,
              "#26828e"
             ],
             [
              0.5555555555555556,
              "#1f9e89"
             ],
             [
              0.6666666666666666,
              "#35b779"
             ],
             [
              0.7777777777777778,
              "#6ece58"
             ],
             [
              0.8888888888888888,
              "#b5de2b"
             ],
             [
              1,
              "#fde725"
             ]
            ],
            "type": "histogram2d"
           }
          ],
          "histogram2dcontour": [
           {
            "colorbar": {
             "outlinewidth": 1,
             "tickcolor": "rgb(36,36,36)",
             "ticks": "outside"
            },
            "colorscale": [
             [
              0,
              "#440154"
             ],
             [
              0.1111111111111111,
              "#482878"
             ],
             [
              0.2222222222222222,
              "#3e4989"
             ],
             [
              0.3333333333333333,
              "#31688e"
             ],
             [
              0.4444444444444444,
              "#26828e"
             ],
             [
              0.5555555555555556,
              "#1f9e89"
             ],
             [
              0.6666666666666666,
              "#35b779"
             ],
             [
              0.7777777777777778,
              "#6ece58"
             ],
             [
              0.8888888888888888,
              "#b5de2b"
             ],
             [
              1,
              "#fde725"
             ]
            ],
            "type": "histogram2dcontour"
           }
          ],
          "mesh3d": [
           {
            "colorbar": {
             "outlinewidth": 1,
             "tickcolor": "rgb(36,36,36)",
             "ticks": "outside"
            },
            "type": "mesh3d"
           }
          ],
          "parcoords": [
           {
            "line": {
             "colorbar": {
              "outlinewidth": 1,
              "tickcolor": "rgb(36,36,36)",
              "ticks": "outside"
             }
            },
            "type": "parcoords"
           }
          ],
          "pie": [
           {
            "automargin": true,
            "type": "pie"
           }
          ],
          "scatter": [
           {
            "fillpattern": {
             "fillmode": "overlay",
             "size": 10,
             "solidity": 0.2
            },
            "type": "scatter"
           }
          ],
          "scatter3d": [
           {
            "line": {
             "colorbar": {
              "outlinewidth": 1,
              "tickcolor": "rgb(36,36,36)",
              "ticks": "outside"
             }
            },
            "marker": {
             "colorbar": {
              "outlinewidth": 1,
              "tickcolor": "rgb(36,36,36)",
              "ticks": "outside"
             }
            },
            "type": "scatter3d"
           }
          ],
          "scattercarpet": [
           {
            "marker": {
             "colorbar": {
              "outlinewidth": 1,
              "tickcolor": "rgb(36,36,36)",
              "ticks": "outside"
             }
            },
            "type": "scattercarpet"
           }
          ],
          "scattergeo": [
           {
            "marker": {
             "colorbar": {
              "outlinewidth": 1,
              "tickcolor": "rgb(36,36,36)",
              "ticks": "outside"
             }
            },
            "type": "scattergeo"
           }
          ],
          "scattergl": [
           {
            "marker": {
             "colorbar": {
              "outlinewidth": 1,
              "tickcolor": "rgb(36,36,36)",
              "ticks": "outside"
             }
            },
            "type": "scattergl"
           }
          ],
          "scattermapbox": [
           {
            "marker": {
             "colorbar": {
              "outlinewidth": 1,
              "tickcolor": "rgb(36,36,36)",
              "ticks": "outside"
             }
            },
            "type": "scattermapbox"
           }
          ],
          "scatterpolar": [
           {
            "marker": {
             "colorbar": {
              "outlinewidth": 1,
              "tickcolor": "rgb(36,36,36)",
              "ticks": "outside"
             }
            },
            "type": "scatterpolar"
           }
          ],
          "scatterpolargl": [
           {
            "marker": {
             "colorbar": {
              "outlinewidth": 1,
              "tickcolor": "rgb(36,36,36)",
              "ticks": "outside"
             }
            },
            "type": "scatterpolargl"
           }
          ],
          "scatterternary": [
           {
            "marker": {
             "colorbar": {
              "outlinewidth": 1,
              "tickcolor": "rgb(36,36,36)",
              "ticks": "outside"
             }
            },
            "type": "scatterternary"
           }
          ],
          "surface": [
           {
            "colorbar": {
             "outlinewidth": 1,
             "tickcolor": "rgb(36,36,36)",
             "ticks": "outside"
            },
            "colorscale": [
             [
              0,
              "#440154"
             ],
             [
              0.1111111111111111,
              "#482878"
             ],
             [
              0.2222222222222222,
              "#3e4989"
             ],
             [
              0.3333333333333333,
              "#31688e"
             ],
             [
              0.4444444444444444,
              "#26828e"
             ],
             [
              0.5555555555555556,
              "#1f9e89"
             ],
             [
              0.6666666666666666,
              "#35b779"
             ],
             [
              0.7777777777777778,
              "#6ece58"
             ],
             [
              0.8888888888888888,
              "#b5de2b"
             ],
             [
              1,
              "#fde725"
             ]
            ],
            "type": "surface"
           }
          ],
          "table": [
           {
            "cells": {
             "fill": {
              "color": "rgb(237,237,237)"
             },
             "line": {
              "color": "white"
             }
            },
            "header": {
             "fill": {
              "color": "rgb(217,217,217)"
             },
             "line": {
              "color": "white"
             }
            },
            "type": "table"
           }
          ]
         },
         "layout": {
          "annotationdefaults": {
           "arrowhead": 0,
           "arrowwidth": 1
          },
          "autotypenumbers": "strict",
          "coloraxis": {
           "colorbar": {
            "outlinewidth": 1,
            "tickcolor": "rgb(36,36,36)",
            "ticks": "outside"
           }
          },
          "colorscale": {
           "diverging": [
            [
             0,
             "rgb(103,0,31)"
            ],
            [
             0.1,
             "rgb(178,24,43)"
            ],
            [
             0.2,
             "rgb(214,96,77)"
            ],
            [
             0.3,
             "rgb(244,165,130)"
            ],
            [
             0.4,
             "rgb(253,219,199)"
            ],
            [
             0.5,
             "rgb(247,247,247)"
            ],
            [
             0.6,
             "rgb(209,229,240)"
            ],
            [
             0.7,
             "rgb(146,197,222)"
            ],
            [
             0.8,
             "rgb(67,147,195)"
            ],
            [
             0.9,
             "rgb(33,102,172)"
            ],
            [
             1,
             "rgb(5,48,97)"
            ]
           ],
           "sequential": [
            [
             0,
             "#440154"
            ],
            [
             0.1111111111111111,
             "#482878"
            ],
            [
             0.2222222222222222,
             "#3e4989"
            ],
            [
             0.3333333333333333,
             "#31688e"
            ],
            [
             0.4444444444444444,
             "#26828e"
            ],
            [
             0.5555555555555556,
             "#1f9e89"
            ],
            [
             0.6666666666666666,
             "#35b779"
            ],
            [
             0.7777777777777778,
             "#6ece58"
            ],
            [
             0.8888888888888888,
             "#b5de2b"
            ],
            [
             1,
             "#fde725"
            ]
           ],
           "sequentialminus": [
            [
             0,
             "#440154"
            ],
            [
             0.1111111111111111,
             "#482878"
            ],
            [
             0.2222222222222222,
             "#3e4989"
            ],
            [
             0.3333333333333333,
             "#31688e"
            ],
            [
             0.4444444444444444,
             "#26828e"
            ],
            [
             0.5555555555555556,
             "#1f9e89"
            ],
            [
             0.6666666666666666,
             "#35b779"
            ],
            [
             0.7777777777777778,
             "#6ece58"
            ],
            [
             0.8888888888888888,
             "#b5de2b"
            ],
            [
             1,
             "#fde725"
            ]
           ]
          },
          "colorway": [
           "#1F77B4",
           "#FF7F0E",
           "#2CA02C",
           "#D62728",
           "#9467BD",
           "#8C564B",
           "#E377C2",
           "#7F7F7F",
           "#BCBD22",
           "#17BECF"
          ],
          "font": {
           "color": "rgb(36,36,36)"
          },
          "geo": {
           "bgcolor": "white",
           "lakecolor": "white",
           "landcolor": "white",
           "showlakes": true,
           "showland": true,
           "subunitcolor": "white"
          },
          "hoverlabel": {
           "align": "left"
          },
          "hovermode": "closest",
          "mapbox": {
           "style": "light"
          },
          "paper_bgcolor": "white",
          "plot_bgcolor": "white",
          "polar": {
           "angularaxis": {
            "gridcolor": "rgb(232,232,232)",
            "linecolor": "rgb(36,36,36)",
            "showgrid": false,
            "showline": true,
            "ticks": "outside"
           },
           "bgcolor": "white",
           "radialaxis": {
            "gridcolor": "rgb(232,232,232)",
            "linecolor": "rgb(36,36,36)",
            "showgrid": false,
            "showline": true,
            "ticks": "outside"
           }
          },
          "scene": {
           "xaxis": {
            "backgroundcolor": "white",
            "gridcolor": "rgb(232,232,232)",
            "gridwidth": 2,
            "linecolor": "rgb(36,36,36)",
            "showbackground": true,
            "showgrid": false,
            "showline": true,
            "ticks": "outside",
            "zeroline": false,
            "zerolinecolor": "rgb(36,36,36)"
           },
           "yaxis": {
            "backgroundcolor": "white",
            "gridcolor": "rgb(232,232,232)",
            "gridwidth": 2,
            "linecolor": "rgb(36,36,36)",
            "showbackground": true,
            "showgrid": false,
            "showline": true,
            "ticks": "outside",
            "zeroline": false,
            "zerolinecolor": "rgb(36,36,36)"
           },
           "zaxis": {
            "backgroundcolor": "white",
            "gridcolor": "rgb(232,232,232)",
            "gridwidth": 2,
            "linecolor": "rgb(36,36,36)",
            "showbackground": true,
            "showgrid": false,
            "showline": true,
            "ticks": "outside",
            "zeroline": false,
            "zerolinecolor": "rgb(36,36,36)"
           }
          },
          "shapedefaults": {
           "fillcolor": "black",
           "line": {
            "width": 0
           },
           "opacity": 0.3
          },
          "ternary": {
           "aaxis": {
            "gridcolor": "rgb(232,232,232)",
            "linecolor": "rgb(36,36,36)",
            "showgrid": false,
            "showline": true,
            "ticks": "outside"
           },
           "baxis": {
            "gridcolor": "rgb(232,232,232)",
            "linecolor": "rgb(36,36,36)",
            "showgrid": false,
            "showline": true,
            "ticks": "outside"
           },
           "bgcolor": "white",
           "caxis": {
            "gridcolor": "rgb(232,232,232)",
            "linecolor": "rgb(36,36,36)",
            "showgrid": false,
            "showline": true,
            "ticks": "outside"
           }
          },
          "title": {
           "x": 0.05
          },
          "xaxis": {
           "automargin": true,
           "gridcolor": "rgb(232,232,232)",
           "linecolor": "rgb(36,36,36)",
           "showgrid": false,
           "showline": true,
           "ticks": "outside",
           "title": {
            "standoff": 15
           },
           "zeroline": false,
           "zerolinecolor": "rgb(36,36,36)"
          },
          "yaxis": {
           "automargin": true,
           "gridcolor": "rgb(232,232,232)",
           "linecolor": "rgb(36,36,36)",
           "showgrid": false,
           "showline": true,
           "ticks": "outside",
           "title": {
            "standoff": 15
           },
           "zeroline": false,
           "zerolinecolor": "rgb(36,36,36)"
          }
         }
        },
        "xaxis": {
         "autorange": true,
         "range": [
          -0.12723521320495185,
          5.127235213204952
         ],
         "visible": false
        },
        "yaxis": {
         "autorange": true,
         "range": [
          -1,
          4
         ],
         "visible": false
        }
       }
      },
      "image/png": "[encoded data removed]",
      "text/html": [
       "<div>                            <div id=\"42146f82-b1bd-4972-94b9-5c259db7ab68\" class=\"plotly-graph-div\" style=\"height:525px; width:100%;\"></div>            <script type=\"text/javascript\">                require([\"plotly\"], function(Plotly) {                    window.PLOTLYENV=window.PLOTLYENV || {};                                    if (document.getElementById(\"42146f82-b1bd-4972-94b9-5c259db7ab68\")) {                    Plotly.newPlot(                        \"42146f82-b1bd-4972-94b9-5c259db7ab68\",                        [{\"arrangement\":\"snap\",\"link\":{\"color\":[\"rgba(255, 255, 0, 0.6)\",\"rgba(255, 165, 0, 0.6)\",\"rgba(165,42,42, 0.6)\",\"rgba(144, 238, 144, 0.6)\",\"rgba(0, 128, 0, 0.6)\",\"rgba(255, 255, 0, 0.6)\",\"rgba(255, 165, 0, 0.6)\",\"rgba(165,42,42, 0.6)\",\"rgba(144, 238, 144, 0.6)\",\"rgba(0, 128, 0, 0.6)\",\"rgba(255, 255, 0, 0.6)\",\"rgba(255, 165, 0, 0.6)\",\"rgba(165,42,42, 0.6)\",\"rgba(144, 238, 144, 0.6)\",\"rgba(0, 128, 0, 0.6)\",\"rgba(255, 255, 0, 0.6)\",\"rgba(255, 165, 0, 0.6)\",\"rgba(165,42,42, 0.6)\",\"rgba(144, 238, 144, 0.6)\",\"rgba(0, 128, 0, 0.6)\",\"rgba(255, 255, 0, 0.6)\",\"rgba(255, 165, 0, 0.6)\",\"rgba(165,42,42, 0.6)\",\"rgba(144, 238, 144, 0.6)\",\"rgba(0, 128, 0, 0.6)\",\"rgba(255, 255, 0, 0.6)\",\"rgba(255, 165, 0, 0.6)\",\"rgba(165,42,42, 0.6)\",\"rgba(144, 238, 144, 0.6)\",\"rgba(0, 128, 0, 0.6)\",\"rgba(255, 255, 0, 0.6)\",\"rgba(255, 165, 0, 0.6)\",\"rgba(165,42,42, 0.6)\",\"rgba(144, 238, 144, 0.6)\",\"rgba(0, 128, 0, 0.6)\",\"rgba(255, 255, 0, 0.6)\",\"rgba(255, 165, 0, 0.6)\",\"rgba(165,42,42, 0.6)\",\"rgba(144, 238, 144, 0.6)\",\"rgba(0, 128, 0, 0.6)\",\"rgba(255, 255, 0, 0.6)\",\"rgba(255, 165, 0, 0.6)\",\"rgba(165,42,42, 0.6)\",\"rgba(144, 238, 144, 0.6)\",\"rgba(0, 128, 0, 0.6)\",\"rgba(255, 255, 0, 0.6)\",\"rgba(255, 165, 0, 0.6)\",\"rgba(165,42,42, 0.6)\",\"rgba(144, 238, 144, 0.6)\",\"rgba(0, 128, 0, 0.6)\",\"rgba(255, 255, 0, 0.6)\",\"rgba(255, 165, 0, 0.6)\",\"rgba(165,42,42, 0.6)\",\"rgba(144, 238, 144, 0.6)\",\"rgba(0, 128, 0, 0.6)\",\"rgba(255, 255, 0, 0.6)\",\"rgba(255, 165, 0, 0.6)\",\"rgba(165,42,42, 0.6)\",\"rgba(144, 238, 144, 0.6)\",\"rgba(0, 128, 0, 0.6)\",\"rgba(255, 255, 0, 0.6)\",\"rgba(255, 165, 0, 0.6)\",\"rgba(165,42,42, 0.6)\",\"rgba(144, 238, 144, 0.6)\",\"rgba(0, 128, 0, 0.6)\",\"rgba(255, 255, 0, 0.6)\",\"rgba(255, 165, 0, 0.6)\",\"rgba(165,42,42, 0.6)\",\"rgba(144, 238, 144, 0.6)\",\"rgba(0, 128, 0, 0.6)\",\"rgba(255, 255, 0, 0.6)\",\"rgba(255, 165, 0, 0.6)\",\"rgba(165,42,42, 0.6)\",\"rgba(144, 238, 144, 0.6)\",\"rgba(0, 128, 0, 0.6)\",\"rgba(255, 255, 0, 0.6)\",\"rgba(255, 165, 0, 0.6)\",\"rgba(165,42,42, 0.6)\",\"rgba(144, 238, 144, 0.6)\",\"rgba(0, 128, 0, 0.6)\",\"rgba(255, 255, 0, 0.6)\",\"rgba(255, 165, 0, 0.6)\",\"rgba(165,42,42, 0.6)\",\"rgba(144, 238, 144, 0.6)\",\"rgba(0, 128, 0, 0.6)\",\"rgba(255, 255, 0, 0.6)\",\"rgba(255, 165, 0, 0.6)\",\"rgba(165,42,42, 0.6)\",\"rgba(144, 238, 144, 0.6)\",\"rgba(0, 128, 0, 0.6)\",\"rgba(255, 255, 0, 0.6)\",\"rgba(255, 165, 0, 0.6)\",\"rgba(165,42,42, 0.6)\",\"rgba(144, 238, 144, 0.6)\",\"rgba(0, 128, 0, 0.6)\",\"rgba(255, 255, 0, 0.6)\",\"rgba(255, 165, 0, 0.6)\",\"rgba(165,42,42, 0.6)\",\"rgba(144, 238, 144, 0.6)\",\"rgba(0, 128, 0, 0.6)\",\"rgba(255, 255, 0, 0.6)\",\"rgba(255, 165, 0, 0.6)\",\"rgba(165,42,42, 0.6)\",\"rgba(144, 238, 144, 0.6)\",\"rgba(0, 128, 0, 0.6)\",\"rgba(255, 255, 0, 0.6)\",\"rgba(255, 165, 0, 0.6)\",\"rgba(165,42,42, 0.6)\",\"rgba(144, 238, 144, 0.6)\",\"rgba(0, 128, 0, 0.6)\",\"rgba(255, 255, 0, 0.6)\",\"rgba(255, 165, 0, 0.6)\",\"rgba(165,42,42, 0.6)\",\"rgba(144, 238, 144, 0.6)\",\"rgba(0, 128, 0, 0.6)\",\"rgba(255, 255, 0, 0.6)\",\"rgba(255, 165, 0, 0.6)\",\"rgba(165,42,42, 0.6)\",\"rgba(144, 238, 144, 0.6)\",\"rgba(0, 128, 0, 0.6)\",\"rgba(255, 255, 0, 0.6)\",\"rgba(255, 165, 0, 0.6)\",\"rgba(165,42,42, 0.6)\",\"rgba(144, 238, 144, 0.6)\",\"rgba(0, 128, 0, 0.6)\"],\"label\":[105667.0056,32876.7219,2556.117,78.4683,33.9264,38281.6143,63411.228,12479.778,842.9175,158.9661,6208.5213,23200.7247,19141.371,2822.5458,215.6796,465.1083,2277.1377,5112.0945,6139.3869,421.2351,99.5553,348.9534,441.8082,1506.5928,906.6744,64106.2062,6636.8664,819.8379,31.5468,33.6969,62018.0217,49260.3147,5334.4674,386.3655,113.1363,14016.0231,52192.2141,29278.0485,2091.321,258.1992,1044.5868,6789.4983,15342.0993,9023.1498,677.8656,27.4014,295.6104,814.3893,2882.5794,2220.6861,68031.9297,68239.3671,15742.6164,1234.4598,40.0158,2946.3165,43976.8341,60708.0375,9195.3648,479.1078,401.7267,3451.3866,18796.887,14354.6922,995.4828,235.9422,1361.7216,2346.0561,7793.1819,2877.12,12.2391,82.9962,242.2089,299.5011,1848.9402,127162.8513,27996.0183,2801.9628,1018.4283,55.773,22859.8443,68826.2688,9714.4173,1933.5663,202.275,2236.779,16710.6114,20018.6352,2373.8274,136.8162,1008.5022,3553.74,5075.1567,8370.6309,528.9012,20.412,219.0222,390.0033,917.5689,1562.1201,135588.8934,30305.8935,3263.0364,1332.5526,10.3527,21301.5231,61994.0862,18305.4609,3585.1581,173.7783,1956.4515,10052.3844,17591.9562,5788.3905,392.6763,151.4772,982.9332,2057.7807,7246.0008,1155.2886,36.6885,201.0744,258.435,584.829,1377.0306],\"source\":[0,1,2,3,4,0,1,2,3,4,0,1,2,3,4,0,1,2,3,4,0,1,2,3,4,5,6,7,8,9,5,6,7,8,9,5,6,7,8,9,5,6,7,8,9,5,6,7,8,9,10,11,12,13,14,10,11,12,13,14,10,11,12,13,14,10,11,12,13,14,10,11,12,13,14,15,16,17,18,19,15,16,17,18,19,15,16,17,18,19,15,16,17,18,19,15,16,17,18,19,20,21,22,23,24,20,21,22,23,24,20,21,22,23,24,20,21,22,23,24,20,21,22,23,24],\"target\":[5,5,5,5,5,6,6,6,6,6,7,7,7,7,7,8,8,8,8,8,9,9,9,9,9,10,10,10,10,10,11,11,11,11,11,12,12,12,12,12,13,13,13,13,13,14,14,14,14,14,15,15,15,15,15,16,16,16,16,16,17,17,17,17,17,18,18,18,18,18,19,19,19,19,19,20,20,20,20,20,21,21,21,21,21,22,22,22,22,22,23,23,23,23,23,24,24,24,24,24,25,25,25,25,25,26,26,26,26,26,27,27,27,27,27,28,28,28,28,28,29,29,29,29,29],\"value\":[105667.0056,32876.7219,2556.117,78.4683,33.9264,38281.6143,63411.228,12479.778,842.9175,158.9661,6208.5213,23200.7247,19141.371,2822.5458,215.6796,465.1083,2277.1377,5112.0945,6139.3869,421.2351,99.5553,348.9534,441.8082,1506.5928,906.6744,64106.2062,6636.8664,819.8379,31.5468,33.6969,62018.0217,49260.3147,5334.4674,386.3655,113.1363,14016.0231,52192.2141,29278.0485,2091.321,258.1992,1044.5868,6789.4983,15342.0993,9023.1498,677.8656,27.4014,295.6104,814.3893,2882.5794,2220.6861,68031.9297,68239.3671,15742.6164,1234.4598,40.0158,2946.3165,43976.8341,60708.0375,9195.3648,479.1078,401.7267,3451.3866,18796.887,14354.6922,995.4828,235.9422,1361.7216,2346.0561,7793.1819,2877.12,12.2391,82.9962,242.2089,299.5011,1848.9402,127162.8513,27996.0183,2801.9628,1018.4283,55.773,22859.8443,68826.2688,9714.4173,1933.5663,202.275,2236.779,16710.6114,20018.6352,2373.8274,136.8162,1008.5022,3553.74,5075.1567,8370.6309,528.9012,20.412,219.0222,390.0033,917.5689,1562.1201,135588.8934,30305.8935,3263.0364,1332.5526,10.3527,21301.5231,61994.0862,18305.4609,3585.1581,173.7783,1956.4515,10052.3844,17591.9562,5788.3905,392.6763,151.4772,982.9332,2057.7807,7246.0008,1155.2886,36.6885,201.0744,258.435,584.829,1377.0306]},\"node\":{\"color\":[\"rgba(255, 255, 0, 1.0)\",\"rgba(255, 165, 0, 1.0)\",\"rgba(165,42,42, 1.0)\",\"rgba(144, 238, 144, 1.0)\",\"rgba(0, 128, 0, 1.0)\",\"rgba(255, 255, 0, 1.0)\",\"rgba(255, 165, 0, 1.0)\",\"rgba(165,42,42, 1.0)\",\"rgba(144, 238, 144, 1.0)\",\"rgba(0, 128, 0, 1.0)\",\"rgba(255, 255, 0, 1.0)\",\"rgba(255, 165, 0, 1.0)\",\"rgba(165,42,42, 1.0)\",\"rgba(144, 238, 144, 1.0)\",\"rgba(0, 128, 0, 1.0)\",\"rgba(255, 255, 0, 1.0)\",\"rgba(255, 165, 0, 1.0)\",\"rgba(165,42,42, 1.0)\",\"rgba(144, 238, 144, 1.0)\",\"rgba(0, 128, 0, 1.0)\",\"rgba(255, 255, 0, 1.0)\",\"rgba(255, 165, 0, 1.0)\",\"rgba(165,42,42, 1.0)\",\"rgba(144, 238, 144, 1.0)\",\"rgba(0, 128, 0, 1.0)\",\"rgba(255, 255, 0, 1.0)\",\"rgba(255, 165, 0, 1.0)\",\"rgba(165,42,42, 1.0)\",\"rgba(144, 238, 144, 1.0)\",\"rgba(0, 128, 0, 1.0)\"],\"label\":[\"Extreme 150.72\",\"Severe 122.11\",\"Moderate 39.73\",\"Light 11.39\",\"No 1.74\",\"141.21\",\"115.17\",\"51.59\",\"14.41\",\"3.3\",\"71.63\",\"117.11\",\"97.84\",\"32.88\",\"6.24\",\"153.29\",\"117.31\",\"38\",\"14.61\",\"2.49\",\"159.04\",\"103.54\",\"41.48\",\"18.54\",\"3.11\",\"170.5\",\"105.36\",\"35.78\",\"11.59\",\"2.46\"],\"line\":{\"color\":\"black\",\"width\":1},\"pad\":10,\"thickness\":20},\"type\":\"sankey\"}],                        {\"template\":{\"data\":{\"barpolar\":[{\"marker\":{\"line\":{\"color\":\"white\",\"width\":0.5},\"pattern\":{\"fillmode\":\"overlay\",\"size\":10,\"solidity\":0.2}},\"type\":\"barpolar\"}],\"bar\":[{\"error_x\":{\"color\":\"rgb(36,36,36)\"},\"error_y\":{\"color\":\"rgb(36,36,36)\"},\"marker\":{\"line\":{\"color\":\"white\",\"width\":0.5},\"pattern\":{\"fillmode\":\"overlay\",\"size\":10,\"solidity\":0.2}},\"type\":\"bar\"}],\"carpet\":[{\"aaxis\":{\"endlinecolor\":\"rgb(36,36,36)\",\"gridcolor\":\"white\",\"linecolor\":\"white\",\"minorgridcolor\":\"white\",\"startlinecolor\":\"rgb(36,36,36)\"},\"baxis\":{\"endlinecolor\":\"rgb(36,36,36)\",\"gridcolor\":\"white\",\"linecolor\":\"white\",\"minorgridcolor\":\"white\",\"startlinecolor\":\"rgb(36,36,36)\"},\"type\":\"carpet\"}],\"choropleth\":[{\"colorbar\":{\"outlinewidth\":1,\"tickcolor\":\"rgb(36,36,36)\",\"ticks\":\"outside\"},\"type\":\"choropleth\"}],\"contourcarpet\":[{\"colorbar\":{\"outlinewidth\":1,\"tickcolor\":\"rgb(36,36,36)\",\"ticks\":\"outside\"},\"type\":\"contourcarpet\"}],\"contour\":[{\"colorbar\":{\"outlinewidth\":1,\"tickcolor\":\"rgb(36,36,36)\",\"ticks\":\"outside\"},\"colorscale\":[[0.0,\"#440154\"],[0.1111111111111111,\"#482878\"],[0.2222222222222222,\"#3e4989\"],[0.3333333333333333,\"#31688e\"],[0.4444444444444444,\"#26828e\"],[0.5555555555555556,\"#1f9e89\"],[0.6666666666666666,\"#35b779\"],[0.7777777777777778,\"#6ece58\"],[0.8888888888888888,\"#b5de2b\"],[1.0,\"#fde725\"]],\"type\":\"contour\"}],\"heatmapgl\":[{\"colorbar\":{\"outlinewidth\":1,\"tickcolor\":\"rgb(36,36,36)\",\"ticks\":\"outside\"},\"colorscale\":[[0.0,\"#440154\"],[0.1111111111111111,\"#482878\"],[0.2222222222222222,\"#3e4989\"],[0.3333333333333333,\"#31688e\"],[0.4444444444444444,\"#26828e\"],[0.5555555555555556,\"#1f9e89\"],[0.6666666666666666,\"#35b779\"],[0.7777777777777778,\"#6ece58\"],[0.8888888888888888,\"#b5de2b\"],[1.0,\"#fde725\"]],\"type\":\"heatmapgl\"}],\"heatmap\":[{\"colorbar\":{\"outlinewidth\":1,\"tickcolor\":\"rgb(36,36,36)\",\"ticks\":\"outside\"},\"colorscale\":[[0.0,\"#440154\"],[0.1111111111111111,\"#482878\"],[0.2222222222222222,\"#3e4989\"],[0.3333333333333333,\"#31688e\"],[0.4444444444444444,\"#26828e\"],[0.5555555555555556,\"#1f9e89\"],[0.6666666666666666,\"#35b779\"],[0.7777777777777778,\"#6ece58\"],[0.8888888888888888,\"#b5de2b\"],[1.0,\"#fde725\"]],\"type\":\"heatmap\"}],\"histogram2dcontour\":[{\"colorbar\":{\"outlinewidth\":1,\"tickcolor\":\"rgb(36,36,36)\",\"ticks\":\"outside\"},\"colorscale\":[[0.0,\"#440154\"],[0.1111111111111111,\"#482878\"],[0.2222222222222222,\"#3e4989\"],[0.3333333333333333,\"#31688e\"],[0.4444444444444444,\"#26828e\"],[0.5555555555555556,\"#1f9e89\"],[0.6666666666666666,\"#35b779\"],[0.7777777777777778,\"#6ece58\"],[0.8888888888888888,\"#b5de2b\"],[1.0,\"#fde725\"]],\"type\":\"histogram2dcontour\"}],\"histogram2d\":[{\"colorbar\":{\"outlinewidth\":1,\"tickcolor\":\"rgb(36,36,36)\",\"ticks\":\"outside\"},\"colorscale\":[[0.0,\"#440154\"],[0.1111111111111111,\"#482878\"],[0.2222222222222222,\"#3e4989\"],[0.3333333333333333,\"#31688e\"],[0.4444444444444444,\"#26828e\"],[0.5555555555555556,\"#1f9e89\"],[0.6666666666666666,\"#35b779\"],[0.7777777777777778,\"#6ece58\"],[0.8888888888888888,\"#b5de2b\"],[1.0,\"#fde725\"]],\"type\":\"histogram2d\"}],\"histogram\":[{\"marker\":{\"line\":{\"color\":\"white\",\"width\":0.6}},\"type\":\"histogram\"}],\"mesh3d\":[{\"colorbar\":{\"outlinewidth\":1,\"tickcolor\":\"rgb(36,36,36)\",\"ticks\":\"outside\"},\"type\":\"mesh3d\"}],\"parcoords\":[{\"line\":{\"colorbar\":{\"outlinewidth\":1,\"tickcolor\":\"rgb(36,36,36)\",\"ticks\":\"outside\"}},\"type\":\"parcoords\"}],\"pie\":[{\"automargin\":true,\"type\":\"pie\"}],\"scatter3d\":[{\"line\":{\"colorbar\":{\"outlinewidth\":1,\"tickcolor\":\"rgb(36,36,36)\",\"ticks\":\"outside\"}},\"marker\":{\"colorbar\":{\"outlinewidth\":1,\"tickcolor\":\"rgb(36,36,36)\",\"ticks\":\"outside\"}},\"type\":\"scatter3d\"}],\"scattercarpet\":[{\"marker\":{\"colorbar\":{\"outlinewidth\":1,\"tickcolor\":\"rgb(36,36,36)\",\"ticks\":\"outside\"}},\"type\":\"scattercarpet\"}],\"scattergeo\":[{\"marker\":{\"colorbar\":{\"outlinewidth\":1,\"tickcolor\":\"rgb(36,36,36)\",\"ticks\":\"outside\"}},\"type\":\"scattergeo\"}],\"scattergl\":[{\"marker\":{\"colorbar\":{\"outlinewidth\":1,\"tickcolor\":\"rgb(36,36,36)\",\"ticks\":\"outside\"}},\"type\":\"scattergl\"}],\"scattermapbox\":[{\"marker\":{\"colorbar\":{\"outlinewidth\":1,\"tickcolor\":\"rgb(36,36,36)\",\"ticks\":\"outside\"}},\"type\":\"scattermapbox\"}],\"scatterpolargl\":[{\"marker\":{\"colorbar\":{\"outlinewidth\":1,\"tickcolor\":\"rgb(36,36,36)\",\"ticks\":\"outside\"}},\"type\":\"scatterpolargl\"}],\"scatterpolar\":[{\"marker\":{\"colorbar\":{\"outlinewidth\":1,\"tickcolor\":\"rgb(36,36,36)\",\"ticks\":\"outside\"}},\"type\":\"scatterpolar\"}],\"scatter\":[{\"fillpattern\":{\"fillmode\":\"overlay\",\"size\":10,\"solidity\":0.2},\"type\":\"scatter\"}],\"scatterternary\":[{\"marker\":{\"colorbar\":{\"outlinewidth\":1,\"tickcolor\":\"rgb(36,36,36)\",\"ticks\":\"outside\"}},\"type\":\"scatterternary\"}],\"surface\":[{\"colorbar\":{\"outlinewidth\":1,\"tickcolor\":\"rgb(36,36,36)\",\"ticks\":\"outside\"},\"colorscale\":[[0.0,\"#440154\"],[0.1111111111111111,\"#482878\"],[0.2222222222222222,\"#3e4989\"],[0.3333333333333333,\"#31688e\"],[0.4444444444444444,\"#26828e\"],[0.5555555555555556,\"#1f9e89\"],[0.6666666666666666,\"#35b779\"],[0.7777777777777778,\"#6ece58\"],[0.8888888888888888,\"#b5de2b\"],[1.0,\"#fde725\"]],\"type\":\"surface\"}],\"table\":[{\"cells\":{\"fill\":{\"color\":\"rgb(237,237,237)\"},\"line\":{\"color\":\"white\"}},\"header\":{\"fill\":{\"color\":\"rgb(217,217,217)\"},\"line\":{\"color\":\"white\"}},\"type\":\"table\"}]},\"layout\":{\"annotationdefaults\":{\"arrowhead\":0,\"arrowwidth\":1},\"autotypenumbers\":\"strict\",\"coloraxis\":{\"colorbar\":{\"outlinewidth\":1,\"tickcolor\":\"rgb(36,36,36)\",\"ticks\":\"outside\"}},\"colorscale\":{\"diverging\":[[0.0,\"rgb(103,0,31)\"],[0.1,\"rgb(178,24,43)\"],[0.2,\"rgb(214,96,77)\"],[0.3,\"rgb(244,165,130)\"],[0.4,\"rgb(253,219,199)\"],[0.5,\"rgb(247,247,247)\"],[0.6,\"rgb(209,229,240)\"],[0.7,\"rgb(146,197,222)\"],[0.8,\"rgb(67,147,195)\"],[0.9,\"rgb(33,102,172)\"],[1.0,\"rgb(5,48,97)\"]],\"sequential\":[[0.0,\"#440154\"],[0.1111111111111111,\"#482878\"],[0.2222222222222222,\"#3e4989\"],[0.3333333333333333,\"#31688e\"],[0.4444444444444444,\"#26828e\"],[0.5555555555555556,\"#1f9e89\"],[0.6666666666666666,\"#35b779\"],[0.7777777777777778,\"#6ece58\"],[0.8888888888888888,\"#b5de2b\"],[1.0,\"#fde725\"]],\"sequentialminus\":[[0.0,\"#440154\"],[0.1111111111111111,\"#482878\"],[0.2222222222222222,\"#3e4989\"],[0.3333333333333333,\"#31688e\"],[0.4444444444444444,\"#26828e\"],[0.5555555555555556,\"#1f9e89\"],[0.6666666666666666,\"#35b779\"],[0.7777777777777778,\"#6ece58\"],[0.8888888888888888,\"#b5de2b\"],[1.0,\"#fde725\"]]},\"colorway\":[\"#1F77B4\",\"#FF7F0E\",\"#2CA02C\",\"#D62728\",\"#9467BD\",\"#8C564B\",\"#E377C2\",\"#7F7F7F\",\"#BCBD22\",\"#17BECF\"],\"font\":{\"color\":\"rgb(36,36,36)\"},\"geo\":{\"bgcolor\":\"white\",\"lakecolor\":\"white\",\"landcolor\":\"white\",\"showlakes\":true,\"showland\":true,\"subunitcolor\":\"white\"},\"hoverlabel\":{\"align\":\"left\"},\"hovermode\":\"closest\",\"mapbox\":{\"style\":\"light\"},\"paper_bgcolor\":\"white\",\"plot_bgcolor\":\"white\",\"polar\":{\"angularaxis\":{\"gridcolor\":\"rgb(232,232,232)\",\"linecolor\":\"rgb(36,36,36)\",\"showgrid\":false,\"showline\":true,\"ticks\":\"outside\"},\"bgcolor\":\"white\",\"radialaxis\":{\"gridcolor\":\"rgb(232,232,232)\",\"linecolor\":\"rgb(36,36,36)\",\"showgrid\":false,\"showline\":true,\"ticks\":\"outside\"}},\"scene\":{\"xaxis\":{\"backgroundcolor\":\"white\",\"gridcolor\":\"rgb(232,232,232)\",\"gridwidth\":2,\"linecolor\":\"rgb(36,36,36)\",\"showbackground\":true,\"showgrid\":false,\"showline\":true,\"ticks\":\"outside\",\"zeroline\":false,\"zerolinecolor\":\"rgb(36,36,36)\"},\"yaxis\":{\"backgroundcolor\":\"white\",\"gridcolor\":\"rgb(232,232,232)\",\"gridwidth\":2,\"linecolor\":\"rgb(36,36,36)\",\"showbackground\":true,\"showgrid\":false,\"showline\":true,\"ticks\":\"outside\",\"zeroline\":false,\"zerolinecolor\":\"rgb(36,36,36)\"},\"zaxis\":{\"backgroundcolor\":\"white\",\"gridcolor\":\"rgb(232,232,232)\",\"gridwidth\":2,\"linecolor\":\"rgb(36,36,36)\",\"showbackground\":true,\"showgrid\":false,\"showline\":true,\"ticks\":\"outside\",\"zeroline\":false,\"zerolinecolor\":\"rgb(36,36,36)\"}},\"shapedefaults\":{\"fillcolor\":\"black\",\"line\":{\"width\":0},\"opacity\":0.3},\"ternary\":{\"aaxis\":{\"gridcolor\":\"rgb(232,232,232)\",\"linecolor\":\"rgb(36,36,36)\",\"showgrid\":false,\"showline\":true,\"ticks\":\"outside\"},\"baxis\":{\"gridcolor\":\"rgb(232,232,232)\",\"linecolor\":\"rgb(36,36,36)\",\"showgrid\":false,\"showline\":true,\"ticks\":\"outside\"},\"bgcolor\":\"white\",\"caxis\":{\"gridcolor\":\"rgb(232,232,232)\",\"linecolor\":\"rgb(36,36,36)\",\"showgrid\":false,\"showline\":true,\"ticks\":\"outside\"}},\"title\":{\"x\":0.05},\"xaxis\":{\"automargin\":true,\"gridcolor\":\"rgb(232,232,232)\",\"linecolor\":\"rgb(36,36,36)\",\"showgrid\":false,\"showline\":true,\"ticks\":\"outside\",\"title\":{\"standoff\":15},\"zeroline\":false,\"zerolinecolor\":\"rgb(36,36,36)\"},\"yaxis\":{\"automargin\":true,\"gridcolor\":\"rgb(232,232,232)\",\"linecolor\":\"rgb(36,36,36)\",\"showgrid\":false,\"showline\":true,\"ticks\":\"outside\",\"title\":{\"standoff\":15},\"zeroline\":false,\"zerolinecolor\":\"rgb(36,36,36)\"}}},\"annotations\":[{\"align\":\"left\",\"font\":{\"color\":\"black\",\"family\":\"Tahoma\",\"size\":12},\"showarrow\":false,\"text\":\"2002\",\"x\":0,\"xref\":\"x\",\"y\":1.08,\"yref\":\"paper\"},{\"align\":\"left\",\"font\":{\"color\":\"black\",\"family\":\"Tahoma\",\"size\":12},\"showarrow\":false,\"text\":\"2006\",\"x\":1,\"xref\":\"x\",\"y\":1.08,\"yref\":\"paper\"},{\"align\":\"left\",\"font\":{\"color\":\"black\",\"family\":\"Tahoma\",\"size\":12},\"showarrow\":false,\"text\":\"2010\",\"x\":2,\"xref\":\"x\",\"y\":1.08,\"yref\":\"paper\"},{\"align\":\"left\",\"font\":{\"color\":\"black\",\"family\":\"Tahoma\",\"size\":12},\"showarrow\":false,\"text\":\"2014\",\"x\":3,\"xref\":\"x\",\"y\":1.08,\"yref\":\"paper\"},{\"align\":\"left\",\"font\":{\"color\":\"black\",\"family\":\"Tahoma\",\"size\":12},\"showarrow\":false,\"text\":\"2018\",\"x\":4,\"xref\":\"x\",\"y\":1.08,\"yref\":\"paper\"},{\"align\":\"left\",\"font\":{\"color\":\"black\",\"family\":\"Tahoma\",\"size\":12},\"showarrow\":false,\"text\":\"2022\",\"x\":5,\"xref\":\"x\",\"y\":1.08,\"yref\":\"paper\"}],\"font\":{\"family\":\"Serif\",\"size\":11},\"margin\":{\"l\":5,\"t\":50,\"b\":5,\"r\":5},\"showlegend\":false,\"xaxis\":{\"visible\":false},\"yaxis\":{\"visible\":false}},                        {\"responsive\": true}                    ).then(function(){\n",
       "                            \n",
       "var gd = document.getElementById('42146f82-b1bd-4972-94b9-5c259db7ab68');\n",
       "var x = new MutationObserver(function (mutations, observer) {{\n",
       "        var display = window.getComputedStyle(gd).display;\n",
       "        if (!display || display === 'none') {{\n",
       "            console.log([gd, 'removed!']);\n",
       "            Plotly.purge(gd);\n",
       "            observer.disconnect();\n",
       "        }}\n",
       "}});\n",
       "\n",
       "// Listen for the removal of the full notebook cells\n",
       "var notebookContainer = gd.closest('#notebook-container');\n",
       "if (notebookContainer) {{\n",
       "    x.observe(notebookContainer, {childList: true});\n",
       "}}\n",
       "\n",
       "// Listen for the clearing of the current output cell\n",
       "var outputEl = gd.closest('.output');\n",
       "if (outputEl) {{\n",
       "    x.observe(outputEl, {childList: true});\n",
       "}}\n",
       "\n",
       "                        })                };                });            </script>        </div>"
      ]
     },
     "metadata": {},
     "output_type": "display_data"
    },
    {
     "ename": "ValueError",
     "evalue": "\nImage export using the \"kaleido\" engine requires the kaleido package,\nwhich can be installed using pip:\n    $ pip install -U kaleido\n",
     "output_type": "error",
     "traceback": [
      "\u001b[0;31m---------------------------------------------------------------------------\u001b[0m",
      "\u001b[0;31mValueError\u001b[0m                                Traceback (most recent call last)",
      "Cell \u001b[0;32mIn[6], line 57\u001b[0m\n\u001b[1;32m     54\u001b[0m fig\u001b[38;5;241m.\u001b[39mupdate_yaxes(visible\u001b[38;5;241m=\u001b[39m\u001b[38;5;28;01mFalse\u001b[39;00m)\n\u001b[1;32m     55\u001b[0m fig\u001b[38;5;241m.\u001b[39mshow()\n\u001b[0;32m---> 57\u001b[0m \u001b[43mpio\u001b[49m\u001b[38;5;241;43m.\u001b[39;49m\u001b[43mwrite_image\u001b[49m\u001b[43m(\u001b[49m\u001b[43mfig\u001b[49m\u001b[43m,\u001b[49m\u001b[43m \u001b[49m\u001b[38;5;124;43m\"\u001b[39;49m\u001b[38;5;124;43msankey.pdf\u001b[39;49m\u001b[38;5;124;43m\"\u001b[39;49m\u001b[43m,\u001b[49m\u001b[43m \u001b[49m\u001b[43mwidth\u001b[49m\u001b[38;5;241;43m=\u001b[39;49m\u001b[38;5;241;43m600\u001b[39;49m\u001b[43m,\u001b[49m\u001b[43m \u001b[49m\u001b[43mheight\u001b[49m\u001b[38;5;241;43m=\u001b[39;49m\u001b[38;5;241;43m300\u001b[39;49m\u001b[43m)\u001b[49m\n",
      "File \u001b[0;32m/usr/local/lib/python3.8/dist-packages/plotly/io/_kaleido.py:267\u001b[0m, in \u001b[0;36mwrite_image\u001b[0;34m(fig, file, format, scale, width, height, validate, engine)\u001b[0m\n\u001b[1;32m    251\u001b[0m             \u001b[38;5;28;01mraise\u001b[39;00m \u001b[38;5;167;01mValueError\u001b[39;00m(\n\u001b[1;32m    252\u001b[0m \u001b[38;5;250m                \u001b[39m\u001b[38;5;124;03m\"\"\"\u001b[39;00m\n\u001b[1;32m    253\u001b[0m \u001b[38;5;124;03mCannot infer image type from output path '{file}'.\u001b[39;00m\n\u001b[0;32m   (...)\u001b[0m\n\u001b[1;32m    261\u001b[0m                 )\n\u001b[1;32m    262\u001b[0m             )\n\u001b[1;32m    264\u001b[0m     \u001b[38;5;66;03m# Request image\u001b[39;00m\n\u001b[1;32m    265\u001b[0m     \u001b[38;5;66;03m# -------------\u001b[39;00m\n\u001b[1;32m    266\u001b[0m     \u001b[38;5;66;03m# Do this first so we don't create a file if image conversion fails\u001b[39;00m\n\u001b[0;32m--> 267\u001b[0m     img_data \u001b[38;5;241m=\u001b[39m \u001b[43mto_image\u001b[49m\u001b[43m(\u001b[49m\n\u001b[1;32m    268\u001b[0m \u001b[43m        \u001b[49m\u001b[43mfig\u001b[49m\u001b[43m,\u001b[49m\n\u001b[1;32m    269\u001b[0m \u001b[43m        \u001b[49m\u001b[38;5;28;43mformat\u001b[39;49m\u001b[38;5;241;43m=\u001b[39;49m\u001b[38;5;28;43mformat\u001b[39;49m\u001b[43m,\u001b[49m\n\u001b[1;32m    270\u001b[0m \u001b[43m        \u001b[49m\u001b[43mscale\u001b[49m\u001b[38;5;241;43m=\u001b[39;49m\u001b[43mscale\u001b[49m\u001b[43m,\u001b[49m\n\u001b[1;32m    271\u001b[0m \u001b[43m        \u001b[49m\u001b[43mwidth\u001b[49m\u001b[38;5;241;43m=\u001b[39;49m\u001b[43mwidth\u001b[49m\u001b[43m,\u001b[49m\n\u001b[1;32m    272\u001b[0m \u001b[43m        \u001b[49m\u001b[43mheight\u001b[49m\u001b[38;5;241;43m=\u001b[39;49m\u001b[43mheight\u001b[49m\u001b[43m,\u001b[49m\n\u001b[1;32m    273\u001b[0m \u001b[43m        \u001b[49m\u001b[43mvalidate\u001b[49m\u001b[38;5;241;43m=\u001b[39;49m\u001b[43mvalidate\u001b[49m\u001b[43m,\u001b[49m\n\u001b[1;32m    274\u001b[0m \u001b[43m        \u001b[49m\u001b[43mengine\u001b[49m\u001b[38;5;241;43m=\u001b[39;49m\u001b[43mengine\u001b[49m\u001b[43m,\u001b[49m\n\u001b[1;32m    275\u001b[0m \u001b[43m    \u001b[49m\u001b[43m)\u001b[49m\n\u001b[1;32m    277\u001b[0m     \u001b[38;5;66;03m# Open file\u001b[39;00m\n\u001b[1;32m    278\u001b[0m     \u001b[38;5;66;03m# ---------\u001b[39;00m\n\u001b[1;32m    279\u001b[0m     \u001b[38;5;28;01mif\u001b[39;00m path \u001b[38;5;129;01mis\u001b[39;00m \u001b[38;5;28;01mNone\u001b[39;00m:\n\u001b[1;32m    280\u001b[0m         \u001b[38;5;66;03m# We previously failed to make sense of `file` as a pathlib object.\u001b[39;00m\n\u001b[1;32m    281\u001b[0m         \u001b[38;5;66;03m# Attempt to write to `file` as an open file descriptor.\u001b[39;00m\n",
      "File \u001b[0;32m/usr/local/lib/python3.8/dist-packages/plotly/io/_kaleido.py:133\u001b[0m, in \u001b[0;36mto_image\u001b[0;34m(fig, format, width, height, scale, validate, engine)\u001b[0m\n\u001b[1;32m    131\u001b[0m     \u001b[38;5;66;03m# Raise informative error message if Kaleido is not installed\u001b[39;00m\n\u001b[1;32m    132\u001b[0m     \u001b[38;5;28;01mif\u001b[39;00m scope \u001b[38;5;129;01mis\u001b[39;00m \u001b[38;5;28;01mNone\u001b[39;00m:\n\u001b[0;32m--> 133\u001b[0m         \u001b[38;5;28;01mraise\u001b[39;00m \u001b[38;5;167;01mValueError\u001b[39;00m(\n\u001b[1;32m    134\u001b[0m \u001b[38;5;250m            \u001b[39m\u001b[38;5;124;03m\"\"\"\u001b[39;00m\n\u001b[1;32m    135\u001b[0m \u001b[38;5;124;03mImage export using the \"kaleido\" engine requires the kaleido package,\u001b[39;00m\n\u001b[1;32m    136\u001b[0m \u001b[38;5;124;03mwhich can be installed using pip:\u001b[39;00m\n\u001b[1;32m    137\u001b[0m \u001b[38;5;124;03m    $ pip install -U kaleido\u001b[39;00m\n\u001b[1;32m    138\u001b[0m \u001b[38;5;124;03m\"\"\"\u001b[39;00m\n\u001b[1;32m    139\u001b[0m         )\n\u001b[1;32m    141\u001b[0m     \u001b[38;5;66;03m# Validate figure\u001b[39;00m\n\u001b[1;32m    142\u001b[0m     \u001b[38;5;66;03m# ---------------\u001b[39;00m\n\u001b[1;32m    143\u001b[0m     fig_dict \u001b[38;5;241m=\u001b[39m validate_coerce_fig_to_dict(fig, validate)\n",
      "\u001b[0;31mValueError\u001b[0m: \nImage export using the \"kaleido\" engine requires the kaleido package,\nwhich can be installed using pip:\n    $ pip install -U kaleido\n"
     ]
    }
   ],
   "source": [
    "import plotly.graph_objects as go\n",
    "import plotly\n",
    "import csv\n",
    "import pandas as pd\n",
    "import plotly.io as pio\n",
    "# pio.kaleido.scope.mathjax = None\n",
    "\n",
    "data= pd.read_csv(\"TIA_.csv\",sep=\"\\t\")\n",
    "data_label= pd.read_csv(\"cross_tab.csv\",sep=\"\\t\")\n",
    "\n",
    "opacity = 0.6\n",
    "node_label = data_label.labels\n",
    "node_color = [\"rgba(255, 255, 0, 1.0)\",\"rgba(255, 165, 0, 1.0)\",\"rgba(165,42,42, 1.0)\",\"rgba(144, 238, 144, 1.0)\",\"rgba(0, 128, 0, 1.0)\"]*6\n",
    "link_color = [node_color[src].replace(\"1.0\", str(opacity))  for src in data.source]\n",
    "\n",
    "fig = go.Figure(data=[go.Sankey(\n",
    "    arrangement='snap',\n",
    "    node = dict(\n",
    "      pad = 10,\n",
    "      thickness = 20,\n",
    "      line = dict(color = \"black\", width = 1),\n",
    "      label = node_label,\n",
    "      color = node_color\n",
    "    ),\n",
    "    link = dict(\n",
    "      source = data.source, \n",
    "      target = data.target,\n",
    "      value = data.transition_km2,\n",
    "      label = data.transition_km2,\n",
    "      color = link_color,\n",
    "  ))])\n",
    "\n",
    "for x_coordinate, column_name in enumerate([\"2002\",\"2006\",\"2010\",\"2014\",'2018','2022']):\n",
    "    fig.add_annotation(\n",
    "          x=x_coordinate,\n",
    "          y=1.08,#y value above 1 means above all nodes\n",
    "          xref=\"x\",\n",
    "          yref=\"paper\",\n",
    "          text=column_name,\n",
    "          showarrow=False,\n",
    "          font=dict(\n",
    "              family=\"Tahoma\",\n",
    "              size=12,\n",
    "              color=\"black\"\n",
    "              ),\n",
    "          align=\"left\",\n",
    "          )\n",
    "\n",
    "fig.update_layout(font_family=\"Serif\", font_size=11,\n",
    "                  margin_l=5, margin_t=50, margin_b=5, margin_r=5)\n",
    "fig.update_layout(template='simple_white')\n",
    "fig.update_layout(showlegend=False)\n",
    "fig.update_xaxes(visible=False)\n",
    "fig.update_yaxes(visible=False)\n",
    "fig.show()\n",
    "\n",
    "pio.write_image(fig, \"sankey.pdf\", width=600, height=300)"
   ]
  }
 ],
 "metadata": {
  "kernelspec": {
   "display_name": "Python 3 (ipykernel)",
   "language": "python",
   "name": "python3"
  },
  "language_info": {
   "codemirror_mode": {
    "name": "ipython",
    "version": 3
   },
   "file_extension": ".py",
   "mimetype": "text/x-python",
   "name": "python",
   "nbconvert_exporter": "python",
   "pygments_lexer": "ipython3",
   "version": "3.8.10"
  }
 },
 "nbformat": 4,
 "nbformat_minor": 5
}
