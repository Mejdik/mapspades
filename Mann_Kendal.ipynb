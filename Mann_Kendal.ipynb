{
 "cells": [
  {
   "cell_type": "markdown",
   "id": "ec31e2b6-28ce-4aa8-925e-5191329c224b",
   "metadata": {},
   "source": [
    " ## Mann Kendal trend analysis "
   ]
  },
  {
   "cell_type": "code",
   "execution_count": 1,
   "id": "e970eb29-e490-49a3-b282-a6fa5e431fc1",
   "metadata": {
    "tags": []
   },
   "outputs": [],
   "source": [
    "from osgeo import gdal_array\n",
    "from osgeo import gdal\n",
    "import numpy as np\n",
    "import matplotlib.pyplot as plt\n",
    "import matplotlib.patches as mpatches\n",
    "from matplotlib.colors import ListedColormap\n",
    "import statsmodels.api as sm\n",
    "import pymannkendall as mk\n",
    "import rasterio\n",
    "from rasterio.features import geometry_mask\n",
    "from rasterio.features import geometry_window\n",
    "from rasterio.transform import from_origin\n",
    "import shutil\n",
    "import pandas as pd\n",
    "import geopandas as gpd"
   ]
  },
  {
   "cell_type": "markdown",
   "id": "fdb8d213-bf28-40e2-9e4e-698d6671d42f",
   "metadata": {},
   "source": [
    "# Rasters reading"
   ]
  },
  {
   "cell_type": "code",
   "execution_count": 2,
   "id": "62d144b5-2db8-465f-999e-f8841830c4b2",
   "metadata": {
    "tags": []
   },
   "outputs": [],
   "source": [
    "#reading rasters\n",
    "\n",
    "no_data = 255.0\n",
    "nb_factors, nb_pixels_height, nb_pixels_width = 2, 126, 229\n",
    "start_year = 2008\n",
    "end_year = 2022\n",
    "nb_years = end_year - start_year + 1\n",
    "years = np.array([start_year+i for i in range(nb_years)])\n",
    "\n",
    "factors_str = [\"Precipitation\", \"Soil moisture\"]\n",
    "\n",
    "#load rasters into arrays\n",
    "\n",
    "#independent variables (X)\n",
    "# factors[0] : precipitation\n",
    "# factors[1] : soil moisture\n",
    "factors = np.ndarray((nb_factors,nb_years,nb_pixels_height,nb_pixels_width))\n",
    "\n",
    "index_start_year = start_year - 2002\n",
    "index_end_year = 21 - (2022 - end_year)\n",
    "#precipitation data\n",
    "data = gdal_array.LoadFile(\"./rasters/raster-total_precipitation_5km.tif\")\n",
    "factors[0] = data[index_start_year:index_end_year]\n",
    "#soil moisture data\n",
    "data = gdal_array.LoadFile(\"./rasters/raster-volumetric_soil_water_layer_1_5km.tif\")\n",
    "factors[1] = data[index_start_year:index_end_year]\n",
    "\n",
    "#dependent variables (Y)\n",
    "#vegetation index\n",
    "vegetation_index = np.ndarray((nb_years,nb_pixels_height,nb_pixels_width))\n",
    "for i,y in enumerate(years):\n",
    "    vegetation_index[i] = gdal_array.LoadFile(f\"./rasters/vegetation_cont_5km_{y}.tif\")"
   ]
  },
  {
   "cell_type": "code",
   "execution_count": 3,
   "id": "bd9d034a-e2d6-4192-98e7-1cc4514add50",
   "metadata": {
    "tags": []
   },
   "outputs": [],
   "source": [
    "valid_data_mask = (vegetation_index[0] != no_data)\n",
    "valid_data_mask_tiled = (vegetation_index != no_data)"
   ]
  },
  {
   "cell_type": "code",
   "execution_count": 4,
   "id": "6d0e3396-461c-4e11-aa58-1c84f7153029",
   "metadata": {
    "tags": []
   },
   "outputs": [
    {
     "name": "stdout",
     "output_type": "stream",
     "text": [
      "Number of valid pixels: 13742 (343550 km2)\n"
     ]
    }
   ],
   "source": [
    "#number of valid pixels (different than no_data)\n",
    "steppe_area = np.count_nonzero(valid_data_mask)*25\n",
    "print(f\"Number of valid pixels: {np.count_nonzero(valid_data_mask)} ({steppe_area} km2)\")"
   ]
  },
  {
   "cell_type": "markdown",
   "id": "64eba9f9-565e-4200-b500-c2533bcddef7",
   "metadata": {},
   "source": [
    "# Standardization"
   ]
  },
  {
   "cell_type": "code",
   "execution_count": 5,
   "id": "1df55c31-dad8-4a40-8d51-29eac53d40fc",
   "metadata": {},
   "outputs": [],
   "source": [
    "def strandardize(arr):\n",
    "    # Extract valid data values\n",
    "    valid_data = arr[valid_data_mask_tiled]\n",
    "    # Calculate mean and standard deviation of valid data\n",
    "    mean_value = np.mean(valid_data)\n",
    "    std_dev_value = np.std(valid_data)\n",
    "    # Standardize valid data\n",
    "    standardized_data = (valid_data - mean_value) / std_dev_value\n",
    "    # Replace standardized values in the original data\n",
    "    arr[valid_data_mask_tiled] = standardized_data\n",
    "    return arr"
   ]
  },
  {
   "cell_type": "code",
   "execution_count": 6,
   "id": "348e2ea5-e632-4e75-8b0a-080dd39d7d39",
   "metadata": {
    "tags": []
   },
   "outputs": [],
   "source": [
    "# for f in range(nb_factors):\n",
    "#      factors[f]= strandardize(factors[f])\n",
    "# vegetation_index = strandardize(vegetation_index)"
   ]
  },
  {
   "cell_type": "markdown",
   "id": "83e3a35d-84c3-4429-85ce-42cb0ad5a8a8",
   "metadata": {},
   "source": [
    "# Normalization"
   ]
  },
  {
   "cell_type": "code",
   "execution_count": 7,
   "id": "2e8530ad-8a7e-469b-ab7b-5bf18b5ce370",
   "metadata": {},
   "outputs": [],
   "source": [
    "def normalize(arr):\n",
    "    # Extract valid data values\n",
    "    valid_data = arr[valid_data_mask_tiled]   \n",
    "    # Calculate the minimum and maximum values    \n",
    "    min_value = np.min(valid_data)\n",
    "    max_value = np.max(valid_data)\n",
    "    # Normalize the array\n",
    "    normalized_array = (valid_data - min_value) / (max_value - min_value)\n",
    "    # Replace normalized values in the original data\n",
    "    arr[valid_data_mask_tiled] = normalized_array\n",
    "    return arr"
   ]
  },
  {
   "cell_type": "code",
   "execution_count": 8,
   "id": "0535f494-2504-4259-86b4-fb4af9975f22",
   "metadata": {
    "tags": []
   },
   "outputs": [],
   "source": [
    "for f in range(nb_factors):\n",
    "    factors[f]= normalize(factors[f])\n",
    "vegetation_index = normalize(vegetation_index)"
   ]
  },
  {
   "cell_type": "markdown",
   "id": "0b554c56-6727-4a3b-902a-3e7c8b81bed2",
   "metadata": {},
   "source": [
    "# Calculations\n",
    "\n",
    "The used LinearRegression method minimizes the residual sum of squares between the observed targets in the dataset, and the targets predicted by the linear approximation.\n",
    "For each pixel and each factor:\n",
    "* Perform a linear regression of the vegetation index against the factor\n",
    "* Get the residues of the linear regression"
   ]
  },
  {
   "cell_type": "code",
   "execution_count": 9,
   "id": "6311f3ab-716b-4b57-b123-1d29348aebf5",
   "metadata": {
    "tags": []
   },
   "outputs": [],
   "source": [
    "residuals = np.full((nb_factors,nb_years,nb_pixels_height,nb_pixels_width),no_data)\n",
    "\n",
    "alpha = 0.05\n",
    "\n",
    "for i in range(nb_pixels_height):\n",
    "    for j in range(nb_pixels_width):\n",
    "        if (valid_data_mask[i,j]):\n",
    "            for f in range(nb_factors):\n",
    "                #linear regression of vegetation index against factor[f]\n",
    "                FACTOR = sm.add_constant(factors[f,:,i,j])\n",
    "                model = sm.OLS(vegetation_index[:,i,j], FACTOR).fit()\n",
    "                residuals[f,:,i,j] = model.resid                "
   ]
  },
  {
   "cell_type": "code",
   "execution_count": 10,
   "id": "96045a6e-0ef6-4652-8f0f-09914bf8e51d",
   "metadata": {
    "tags": []
   },
   "outputs": [],
   "source": [
    "avg_residue = np.ndarray((nb_factors,nb_years))\n",
    "for f in range(nb_factors):\n",
    "    for y in range(nb_years):\n",
    "        avg_residue[f,y] = np.average(residuals[f,y][valid_data_mask])    "
   ]
  },
  {
   "cell_type": "markdown",
   "id": "7fa962fc-c05c-441f-abca-66986f13e7cd",
   "metadata": {},
   "source": [
    "# Mann-Kendal Non-Parametric Trend Analysis"
   ]
  },
  {
   "cell_type": "code",
   "execution_count": 11,
   "id": "adaa28a6-97b9-4f8a-8241-eb9ed802db28",
   "metadata": {
    "tags": []
   },
   "outputs": [
    {
     "name": "stdout",
     "output_type": "stream",
     "text": [
      "\n",
      "******** Factor Precipitation:\n",
      "Kendall's Tau: -0.21904761904761905\n",
      "P-Value: 0.2762784158080178\n",
      "Trend : no trend\n",
      "\n",
      "******** Factor Soil moisture:\n",
      "Kendall's Tau: -0.1619047619047619\n",
      "P-Value: 0.42848041949799653\n",
      "Trend : no trend\n"
     ]
    }
   ],
   "source": [
    "for f in range(nb_factors):\n",
    "    results = mk.original_test(avg_residue[f])\n",
    "\n",
    "    # Output the results\n",
    "    print(f\"\\n******** Factor {factors_str[f]}:\")\n",
    "    print(f\"Kendall's Tau: {results.Tau}\")\n",
    "    print(f\"P-Value: {results.p}\")\n",
    "    print(f\"Trend : {results.trend}\")"
   ]
  },
  {
   "cell_type": "code",
   "execution_count": 12,
   "id": "52c35b80-c36d-40f1-a6b8-6068727fc506",
   "metadata": {
    "tags": []
   },
   "outputs": [
    {
     "name": "stdout",
     "output_type": "stream",
     "text": [
      "\n",
      "******** Factor Precipitation:\n",
      "Average Kendall's Tau: -0.148846428398165\n",
      "Average p-value: 0.456028457977053\n",
      "Number of pixels with significant negative trend: 875 - Area: 21875 km² (6.37% of the steppe)\n",
      "Number of pixels with significant positive trend: 5 - Area: 125 km² (0.04% of the steppe)\n",
      "---------------------------------\n",
      "\n",
      "******** Factor Soil moisture:\n",
      "Average Kendall's Tau: -0.13197635334150842\n",
      "Average p-value: 0.49223892799511243\n",
      "Number of pixels with significant negative trend: 170 - Area: 4250 km² (1.24% of the steppe)\n",
      "Number of pixels with significant positive trend: 3 - Area: 75 km² (0.02% of the steppe)\n",
      "---------------------------------\n"
     ]
    }
   ],
   "source": [
    "mk_trend = np.full((nb_factors, nb_pixels_height, nb_pixels_width),255)\n",
    "\n",
    "for f in range(nb_factors):\n",
    "    kt_list = []\n",
    "    sig_neg_pixels = []\n",
    "    sig_pos_pixels = []\n",
    "    for i in range(nb_pixels_height):\n",
    "        for j in range(nb_pixels_width):\n",
    "            if valid_data_mask[i,j]:\n",
    "                results = mk.original_test(residuals[f,:,i,j].tolist())\n",
    "                kt_list.append((results.Tau,results.p))\n",
    "                if results.p < alpha:\n",
    "                    if results.Tau < 0:\n",
    "                        sig_neg_pixels.append((i,j))\n",
    "                        mk_trend[f,i,j] = 1\n",
    "                    else:\n",
    "                        sig_pos_pixels.append((i,j))\n",
    "                        mk_trend[f,i,j] = 0\n",
    "                else:\n",
    "                    mk_trend[f,i,j] = 0\n",
    "\n",
    "    print(f\"\\n******** Factor {factors_str[f]}:\")\n",
    "    print(f\"Average Kendall's Tau: {sum(t[0] for t in kt_list)/len(kt_list)}\")\n",
    "    print(f\"Average p-value: {sum(t[1] for t in kt_list)/len(kt_list)}\")\n",
    "    print(f\"Number of pixels with significant negative trend: {len(sig_neg_pixels)} - Area: {len(sig_neg_pixels)*25} km² ({len(sig_neg_pixels)*2500/steppe_area:.2f}% of the steppe)\")\n",
    "    print(f\"Number of pixels with significant positive trend: {len(sig_pos_pixels)} - Area: {len(sig_pos_pixels)*25} km² ({len(sig_pos_pixels)*2500/steppe_area:.2f}% of the steppe)\")\n",
    "    print(\"---------------------------------\")        \n",
    "                "
   ]
  },
  {
   "cell_type": "code",
   "execution_count": 13,
   "id": "a217ba9a-daef-4e96-a659-3857a5bcdd06",
   "metadata": {
    "tags": []
   },
   "outputs": [],
   "source": [
    "masked_mk_trend = np.ma.masked_where(mk_trend == no_data, mk_trend) "
   ]
  },
  {
   "cell_type": "code",
   "execution_count": 14,
   "id": "c9706125-cee8-40f6-9347-4ee0981832e0",
   "metadata": {
    "tags": []
   },
   "outputs": [],
   "source": [
    "labels_significant = [\"Not negative significant\", \"Negative significant\"]"
   ]
  },
  {
   "cell_type": "code",
   "execution_count": 15,
   "id": "24be3274-ba1d-444c-9199-c6ecda906a5b",
   "metadata": {
    "tags": []
   },
   "outputs": [],
   "source": [
    "def patch(arr,labels):\n",
    "    values = np.unique(arr[valid_data_mask])\n",
    "    colors = [im.cmap(im.norm(value)) for value in values]\n",
    "    patches = []\n",
    "    for i in values:\n",
    "        i = int(i)\n",
    "        patches.append(mpatches.Patch(color=colors[i], label=labels[i]))\n",
    "    return patches"
   ]
  },
  {
   "cell_type": "code",
   "execution_count": 16,
   "id": "30cb0098-4017-49cd-96f6-6d0f9a0b3385",
   "metadata": {
    "tags": []
   },
   "outputs": [
    {
     "data": {
      "image/png": "[encoded data removed]",
      "text/plain": [
       "<Figure size 640x480 with 1 Axes>"
      ]
     },
     "metadata": {},
     "output_type": "display_data"
    }
   ],
   "source": [
    "im = plt.imshow(masked_mk_trend[0], cmap=\"RdYlGn_r\")\n",
    "plt.legend(handles=patch(mk_trend[0],labels_significant), loc='lower right' )\n",
    "plt.title(f'Mann-Kendal significant negative trends\\n ({factors_str[0]})')\n",
    "plt.show()\n",
    "# unique, counts = np.unique(mk_trend[0], return_counts=True)\n",
    "# results = dict(zip(unique.astype(int), counts))\n",
    "# print(f\"Repartition of pixels: {results}\")\n",
    "# print(f\"Total area with significative negative trend: {results[1]*25} km² ({results[1]*2500/steppe_area:.2f}% of the steppe)\")"
   ]
  },
  {
   "cell_type": "code",
   "execution_count": 17,
   "id": "7f7e4be2-ccc0-4dd4-9954-0658854c5f94",
   "metadata": {
    "tags": []
   },
   "outputs": [
    {
     "data": {
      "image/png": "[encoded data removed]",
      "text/plain": [
       "<Figure size 640x480 with 1 Axes>"
      ]
     },
     "metadata": {},
     "output_type": "display_data"
    }
   ],
   "source": [
    "im = plt.imshow(masked_mk_trend[1], cmap=\"RdYlGn_r\")\n",
    "plt.legend(handles=patch(mk_trend[1],labels_significant), loc='lower right' )\n",
    "plt.title(f'Mann-Kendal significant negative trends\\n ({factors_str[1]})')\n",
    "plt.show()\n",
    "# unique, counts = np.unique(mk_trend[1], return_counts=True)\n",
    "# results = dict(zip(unique.astype(int), counts))\n",
    "# print(f\"Repartition of pixels: {results}\")\n",
    "# print(f\"Total area with significative negative trend: {results[1]*25} km² ({results[1]*2500/steppe_area:.2f}% of the steppe)\")"
   ]
  },
  {
   "cell_type": "markdown",
   "id": "3be9f863-94ec-44dd-92e9-6f789dc8ed14",
   "metadata": {},
   "source": [
    "# Raster export"
   ]
  },
  {
   "cell_type": "markdown",
   "id": "c2f7523d-173c-4895-bc2e-feaa66728dc9",
   "metadata": {},
   "source": [
    "Export numpy array to a raster by coping an existing one and updating it (to keep metadata)."
   ]
  },
  {
   "cell_type": "code",
   "execution_count": 18,
   "id": "cc15c758-8d78-4292-8127-57d0ea12e2b8",
   "metadata": {
    "tags": []
   },
   "outputs": [],
   "source": [
    "def duplicate_file(source_path, destination_path):\n",
    "    try:\n",
    "        # Copy the file from source_path to destination_path\n",
    "        shutil.copy2(source_path, destination_path)\n",
    "    except Exception as e:\n",
    "        print(f\"Error duplicating file: {e}\")"
   ]
  },
  {
   "cell_type": "code",
   "execution_count": 19,
   "id": "6827dea2-064f-472c-9e19-4dab0432794d",
   "metadata": {
    "tags": []
   },
   "outputs": [],
   "source": [
    "def export_raster(path,new_path,arr):\n",
    "    duplicate_file(path,new_path)\n",
    "    # Open the raster file in read-write mode\n",
    "    with rasterio.open(new_path, 'r+') as src:\n",
    "        # Read the raster data as a NumPy array\n",
    "        data = src.read(1)\n",
    "\n",
    "        # Replace the old content\n",
    "        data = arr\n",
    "\n",
    "        # Write the modified array back to the raster\n",
    "        src.write(data, 1)"
   ]
  },
  {
   "cell_type": "code",
   "execution_count": 20,
   "id": "f5d8a7b5-e2ab-4389-bf21-3b9c99e89826",
   "metadata": {
    "tags": []
   },
   "outputs": [],
   "source": [
    "#Export array to the .tiff file.\n",
    "export_raster(\"original.tiff\",\"neg_trends_\"+str(start_year)+\"_\"+str(end_year)+\".tiff\",mk_trend[0])"
   ]
  },
  {
   "cell_type": "code",
   "execution_count": 21,
   "id": "170d7daa-e8b7-4407-bc56-f764f359ae84",
   "metadata": {
    "tags": []
   },
   "outputs": [],
   "source": [
    "def count_pixels(tiff_path, shapefile_path, attribute_field, target_pixel_value):\n",
    "    # Step 1: Read TIFF file\n",
    "    with rasterio.open(tiff_path) as src:\n",
    "        raster_profile = src.profile\n",
    "        raster_data = src.read(1)  # Assuming a single-band raster\n",
    "        \n",
    "    transform = src.transform\n",
    "    out_shape = raster_data.shape    \n",
    "\n",
    "    # Step 2: Read Shapefile and select features based on attribute\n",
    "    gdf = gpd.read_file(shapefile_path)\n",
    "    gdf = gdf.to_crs(epsg=4326)\n",
    "    # Step 3: Count pixels with the specified value in selected features\n",
    "    wilayas = []\n",
    "    pixels_count = []\n",
    "    areas = []\n",
    "    degraded_area = []\n",
    "    degradation_per = []\n",
    "    total_area = 0\n",
    "\n",
    "    for index, feature in gdf.iterrows():\n",
    "        # Use the original feature geometry as the mask\n",
    "        mask = geometry_mask([feature.geometry], out_shape=out_shape, transform=src.transform, invert=True)\n",
    "        # Count pixels with the specified value inside the feature geometry\n",
    "        count = (raster_data[mask] == target_pixel_value).sum()\n",
    "        # The Wilaya area is obtained by counting pixels from raster_data[mask] with data\n",
    "        area = (raster_data[mask] != no_data).sum()\n",
    "    \n",
    "        if count != 0 :                 \n",
    "            total_area += area\n",
    "            wilayas.append(feature['ADM1_EN'])\n",
    "            pixels_count.append(count)\n",
    "            areas.append(area*25)\n",
    "            degraded_area.append(count*25) \n",
    "            degradation_per.append(count*100/(area))\n",
    "        \n",
    "    results = pd.DataFrame({\"wilaya\":wilayas,\n",
    "                            \"count\":pixels_count,\n",
    "                            \"area\":areas,\n",
    "                            \"degraded area\":degraded_area, \n",
    "                            \"degradation\":degradation_per})\n",
    "    return results"
   ]
  },
  {
   "cell_type": "markdown",
   "id": "7ecf47d8-515c-4492-a8ce-41b4eb4edd1f",
   "metadata": {},
   "source": [
    "#### Remarks:\n",
    "* 80 pixels at the border of the steppic region are not taken into account since their center does not belong steppic map shape file (2000km²).\n",
    "* For every Wilaya, only the area belonging to the steppic region is given. The degradation percentage is calculated accordigly."
   ]
  },
  {
   "cell_type": "code",
   "execution_count": 22,
   "id": "6b631206-d299-4230-99b6-09024bf230e0",
   "metadata": {
    "tags": []
   },
   "outputs": [
    {
     "data": {
      "text/html": [
       "<div>\n",
       "<style scoped>\n",
       "    .dataframe tbody tr th:only-of-type {\n",
       "        vertical-align: middle;\n",
       "    }\n",
       "\n",
       "    .dataframe tbody tr th {\n",
       "        vertical-align: top;\n",
       "    }\n",
       "\n",
       "    .dataframe thead th {\n",
       "        text-align: right;\n",
       "    }\n",
       "</style>\n",
       "<table border=\"1\" class=\"dataframe\">\n",
       "  <thead>\n",
       "    <tr style=\"text-align: right;\">\n",
       "      <th></th>\n",
       "      <th>wilaya</th>\n",
       "      <th>count</th>\n",
       "      <th>area</th>\n",
       "      <th>degraded area</th>\n",
       "      <th>degradation</th>\n",
       "    </tr>\n",
       "  </thead>\n",
       "  <tbody>\n",
       "    <tr>\n",
       "      <th>0</th>\n",
       "      <td>Ain-Defla</td>\n",
       "      <td>1</td>\n",
       "      <td>100</td>\n",
       "      <td>25</td>\n",
       "      <td>25.000000</td>\n",
       "    </tr>\n",
       "    <tr>\n",
       "      <th>3</th>\n",
       "      <td>Biskra</td>\n",
       "      <td>256</td>\n",
       "      <td>26075</td>\n",
       "      <td>6400</td>\n",
       "      <td>24.544583</td>\n",
       "    </tr>\n",
       "    <tr>\n",
       "      <th>6</th>\n",
       "      <td>El Oued</td>\n",
       "      <td>13</td>\n",
       "      <td>1425</td>\n",
       "      <td>325</td>\n",
       "      <td>22.807018</td>\n",
       "    </tr>\n",
       "    <tr>\n",
       "      <th>2</th>\n",
       "      <td>Bechar</td>\n",
       "      <td>9</td>\n",
       "      <td>1300</td>\n",
       "      <td>225</td>\n",
       "      <td>17.307692</td>\n",
       "    </tr>\n",
       "    <tr>\n",
       "      <th>4</th>\n",
       "      <td>Djelfa</td>\n",
       "      <td>260</td>\n",
       "      <td>39250</td>\n",
       "      <td>6500</td>\n",
       "      <td>16.560510</td>\n",
       "    </tr>\n",
       "    <tr>\n",
       "      <th>12</th>\n",
       "      <td>Ouargla</td>\n",
       "      <td>2</td>\n",
       "      <td>400</td>\n",
       "      <td>50</td>\n",
       "      <td>12.500000</td>\n",
       "    </tr>\n",
       "    <tr>\n",
       "      <th>1</th>\n",
       "      <td>Batna</td>\n",
       "      <td>56</td>\n",
       "      <td>15075</td>\n",
       "      <td>1400</td>\n",
       "      <td>9.286899</td>\n",
       "    </tr>\n",
       "    <tr>\n",
       "      <th>9</th>\n",
       "      <td>Laghouat</td>\n",
       "      <td>122</td>\n",
       "      <td>33150</td>\n",
       "      <td>3050</td>\n",
       "      <td>9.200603</td>\n",
       "    </tr>\n",
       "    <tr>\n",
       "      <th>10</th>\n",
       "      <td>M'Sila</td>\n",
       "      <td>45</td>\n",
       "      <td>21900</td>\n",
       "      <td>1125</td>\n",
       "      <td>5.136986</td>\n",
       "    </tr>\n",
       "    <tr>\n",
       "      <th>7</th>\n",
       "      <td>Ghardaia</td>\n",
       "      <td>3</td>\n",
       "      <td>1550</td>\n",
       "      <td>75</td>\n",
       "      <td>4.838710</td>\n",
       "    </tr>\n",
       "    <tr>\n",
       "      <th>5</th>\n",
       "      <td>El Bayadh</td>\n",
       "      <td>87</td>\n",
       "      <td>85275</td>\n",
       "      <td>2175</td>\n",
       "      <td>2.550572</td>\n",
       "    </tr>\n",
       "    <tr>\n",
       "      <th>15</th>\n",
       "      <td>Tiaret</td>\n",
       "      <td>15</td>\n",
       "      <td>16200</td>\n",
       "      <td>375</td>\n",
       "      <td>2.314815</td>\n",
       "    </tr>\n",
       "    <tr>\n",
       "      <th>14</th>\n",
       "      <td>Setif</td>\n",
       "      <td>1</td>\n",
       "      <td>1575</td>\n",
       "      <td>25</td>\n",
       "      <td>1.587302</td>\n",
       "    </tr>\n",
       "    <tr>\n",
       "      <th>8</th>\n",
       "      <td>Khenchela</td>\n",
       "      <td>3</td>\n",
       "      <td>11750</td>\n",
       "      <td>75</td>\n",
       "      <td>0.638298</td>\n",
       "    </tr>\n",
       "    <tr>\n",
       "      <th>13</th>\n",
       "      <td>Oum El Bouaghi</td>\n",
       "      <td>1</td>\n",
       "      <td>5050</td>\n",
       "      <td>25</td>\n",
       "      <td>0.495050</td>\n",
       "    </tr>\n",
       "    <tr>\n",
       "      <th>11</th>\n",
       "      <td>Naama</td>\n",
       "      <td>1</td>\n",
       "      <td>35525</td>\n",
       "      <td>25</td>\n",
       "      <td>0.070373</td>\n",
       "    </tr>\n",
       "  </tbody>\n",
       "</table>\n",
       "</div>"
      ],
      "text/plain": [
       "            wilaya  count   area  degraded area  degradation\n",
       "0        Ain-Defla      1    100             25    25.000000\n",
       "3           Biskra    256  26075           6400    24.544583\n",
       "6          El Oued     13   1425            325    22.807018\n",
       "2           Bechar      9   1300            225    17.307692\n",
       "4           Djelfa    260  39250           6500    16.560510\n",
       "12         Ouargla      2    400             50    12.500000\n",
       "1            Batna     56  15075           1400     9.286899\n",
       "9         Laghouat    122  33150           3050     9.200603\n",
       "10          M'Sila     45  21900           1125     5.136986\n",
       "7         Ghardaia      3   1550             75     4.838710\n",
       "5        El Bayadh     87  85275           2175     2.550572\n",
       "15          Tiaret     15  16200            375     2.314815\n",
       "14           Setif      1   1575             25     1.587302\n",
       "8        Khenchela      3  11750             75     0.638298\n",
       "13  Oum El Bouaghi      1   5050             25     0.495050\n",
       "11           Naama      1  35525             25     0.070373"
      ]
     },
     "execution_count": 22,
     "metadata": {},
     "output_type": "execute_result"
    }
   ],
   "source": [
    "tiff_file_path = \"./neg_trends_\"+str(start_year)+\"_\"+str(end_year)+\".tiff\"\n",
    "shapefile_path = \"/home/eoafrica/shared/Datasets/shapefiles_algeria/dza_admbnda_unhcr2020_shp/dza_admbnda_adm1_unhcr_20200120.shp\"\n",
    "attribute_name = \"ADM1_EN\"\n",
    "target_pixel_val = 1 \n",
    "results = count_pixels(tiff_file_path, shapefile_path, attribute_name, target_pixel_val).sort_values('degradation', ascending =False)\n",
    "results"
   ]
  }
 ],
 "metadata": {
  "kernelspec": {
   "display_name": "Python 3 (ipykernel)",
   "language": "python",
   "name": "python3"
  },
  "language_info": {
   "codemirror_mode": {
    "name": "ipython",
    "version": 3
   },
   "file_extension": ".py",
   "mimetype": "text/x-python",
   "name": "python",
   "nbconvert_exporter": "python",
   "pygments_lexer": "ipython3",
   "version": "3.8.10"
  }
 },
 "nbformat": 4,
 "nbformat_minor": 5
}
