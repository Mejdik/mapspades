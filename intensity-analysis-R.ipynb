{
 "cells": [
  {
   "cell_type": "markdown",
   "id": "3ce4cad7-d0fb-48cb-a9e0-c6b348af1248",
   "metadata": {},
   "source": [
    "# Intensity analysis calculations\n",
    "In R. Uses the intensity.analysis library.\n",
    "- **Input**: Studied area rasters. A pixel value reprensents the vegetation density class - Extremely Low (0), Low (1), Moderate (2), High (3), Very High (4) -.\n",
    "- **Output**: Intensity analysis crosstabulation matrices (one for each time interval) plus the 3 intensity analysis levels basic display and files: \"IIA.csv\" (Interval level), \"CIA.csv\" (Category level), \"TIA.csv\" (Transition level). Plots diagrams for each level."
   ]
  },
  {
   "cell_type": "code",
   "execution_count": null,
   "id": "140268f0-5e86-4d8d-a2fd-cc5f49eab76a",
   "metadata": {},
   "outputs": [],
   "source": [
    "# Package for geographic data analysis and modeling\n",
    "library(raster)               \n",
    "# Package for intensity of change for comparing categorical maps from sequential intervals\n",
    "library(intensity.analysis)   "
   ]
  },
  {
   "cell_type": "code",
   "execution_count": null,
   "id": "1112bc2d-26cb-41cc-8267-e16997dfd345",
   "metadata": {},
   "outputs": [],
   "source": [
    "# Load raster data\n",
    "r2002 <- raster('./rasters/vegetation-maps/vegetation_mt_2002.tif')\n",
    "r2006 <- raster('./rasters/vegetation-maps/vegetation_mt_2006.tif')\n",
    "r2010 <- raster('./rasters/vegetation-maps/vegetation_mt_2010.tif')\n",
    "r2014 <- raster('./rasters/vegetation-maps/vegetation_mt_2014.tif')\n",
    "r2018 <- raster('./rasters/vegetation-maps/vegetation_mt_2018.tif')\n",
    "r2022 <- raster('./rasters/vegetation-maps/vegetation_mt_2022.tif')"
   ]
  },
  {
   "cell_type": "code",
   "execution_count": null,
   "id": "2eb835a6-41e3-4545-81c0-6f063866bba0",
   "metadata": {},
   "outputs": [],
   "source": [
    "# Create a list of raster data\n",
    "raster.layers <- list(r2002, r2006, r2010, r2014, r2018, r2022)\n",
    "\n",
    "# Create character vector of time-points\n",
    "time.points <- c(\"2002\",\"2006\",\"2010\",\"2014\",\"2018\",\"2022\")\n",
    "\n",
    "# Create character vector of land cover categories\n",
    "categories <- c(\"Extremely Low\", \"Low\", \"Moderate\", \"High\", \"Very High\")"
   ]
  },
  {
   "cell_type": "code",
   "execution_count": null,
   "id": "2df49e35-2025-442a-9986-80907c8c5a9a",
   "metadata": {},
   "outputs": [],
   "source": [
    "#  Implement Intensity Analysis\n",
    "crosstabulation <- multicrosstab(raster.layers, time.points, categories)"
   ]
  },
  {
   "cell_type": "code",
   "execution_count": null,
   "id": "a42046fa-aa61-44c4-a7a1-ab2d08941c4d",
   "metadata": {
    "tags": []
   },
   "outputs": [],
   "source": [
    "crosstabulation"
   ]
  },
  {
   "cell_type": "markdown",
   "id": "fe7cfced-94f2-42d0-be0f-eb0a4dd3eb32",
   "metadata": {},
   "source": [
    "# Interval-level Intensity Analysis :\n",
    "Displays percentage of change for each interval, first for the intire interval (4 years), then annually."
   ]
  },
  {
   "cell_type": "code",
   "execution_count": null,
   "id": "9d1d86cc-5ad8-4baa-b6a4-8f05d03515d3",
   "metadata": {},
   "outputs": [],
   "source": [
    "IIA.output <- IIA(crosstabulation, time.points);"
   ]
  },
  {
   "cell_type": "markdown",
   "id": "bf75211a-0d84-414a-a6e2-fb03734f8507",
   "metadata": {},
   "source": [
    "# Category-level Intensity Analysis :\n",
    "Displays annual gain and loss for each category at each interval, first in size (number of pixels) then in intensity (percentage)."
   ]
  },
  {
   "cell_type": "code",
   "execution_count": null,
   "id": "2a750559-7e18-459f-8854-f78a773ed719",
   "metadata": {},
   "outputs": [],
   "source": [
    "CIA.output <- CIA(crosstabulation, time.points, categories)"
   ]
  },
  {
   "cell_type": "markdown",
   "id": "5c9d2c00-51db-49f0-ad88-9d0882747ca6",
   "metadata": {},
   "source": [
    "# Transition-level Intensity Analysis :\n",
    "Displays, for each time interval, annual gain from each category to every other category, first in size (number of pixels) then in intensity (percentage)."
   ]
  },
  {
   "cell_type": "code",
   "execution_count": null,
   "id": "cac0e55e-11ba-408a-949c-2da97aabf2ba",
   "metadata": {},
   "outputs": [],
   "source": [
    "TIA.output <- TIA(crosstabulation, time.points, categories)"
   ]
  },
  {
   "cell_type": "markdown",
   "id": "b211aca6-2a1e-45cf-8104-e2b317f44cb9",
   "metadata": {},
   "source": [
    "# Exporting outputs to CSV files"
   ]
  },
  {
   "cell_type": "code",
   "execution_count": null,
   "id": "4bbb14a5-18fa-46ba-9c80-095e7856aec0",
   "metadata": {},
   "outputs": [],
   "source": [
    "IIA2csv(IIA.output,time.points, 'IIA.csv')\n",
    "CIA2csv(CIA.output,time.points, categories, 'CIA.csv')\n",
    "TIA2csv(TIA.output,time.points,categories, 'TIA.csv')"
   ]
  }
 ],
 "metadata": {
  "kernelspec": {
   "display_name": "R",
   "language": "R",
   "name": "ir"
  },
  "language_info": {
   "codemirror_mode": "r",
   "file_extension": ".r",
   "mimetype": "text/x-r-source",
   "name": "R",
   "pygments_lexer": "r",
   "version": "4.3.1"
  }
 },
 "nbformat": 4,
 "nbformat_minor": 5
}
