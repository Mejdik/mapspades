{
 "cells": [
  {
   "cell_type": "markdown",
   "id": "e6ecd5ec-9789-4000-9b63-a6e731ff8041",
   "metadata": {
    "tags": []
   },
   "source": [
    "# Import the necessary libraries "
   ]
  },
  {
   "cell_type": "code",
   "execution_count": null,
   "id": "6428da39-6d8c-4048-b840-bdfea32e81a9",
   "metadata": {
    "tags": []
   },
   "outputs": [],
   "source": [
    "import rasterio\n",
    "import rasterio.plot\n",
    "import pyproj\n",
    "import numpy as np\n",
    "import matplotlib\n",
    "import matplotlib.pyplot as plt\n",
    "import csv\n",
    "import pandas as pd\n",
    "import matplotlib.animation as animation\n",
    "from matplotlib.colors import ListedColormap\n",
    "import matplotlib.colors as colors\n"
   ]
  },
  {
   "cell_type": "markdown",
   "id": "8db0ce26-e00a-4b79-a955-1f58516f63fc",
   "metadata": {},
   "source": [
    "## Configure the variables"
   ]
  },
  {
   "cell_type": "code",
   "execution_count": null,
   "id": "827ff725-ba4d-4975-976d-e3b40bccc81c",
   "metadata": {
    "tags": []
   },
   "outputs": [],
   "source": [
    "rasters_path = './rasters/vegetation-maps/'\n",
    "\n",
    "filename_prefix = 'vegetation_mt_'\n",
    "\n",
    "filename_suffix = '.tif'\n",
    "\n",
    "years = ['2002', '2006', '2010',  '2014',  '2018',  '2022']\n",
    "\n",
    "indexes = ['extreme','severe', 'moderate', 'light', 'no']\n"
   ]
  },
  {
   "cell_type": "markdown",
   "id": "621bd893-9f33-46cb-b4c1-0d888b68806c",
   "metadata": {},
   "source": [
    "## Compute the gravity centers for all the considered years "
   ]
  },
  {
   "cell_type": "code",
   "execution_count": null,
   "id": "f775f5ff-90e0-4b31-b06c-cf93c3ca333c",
   "metadata": {
    "tags": []
   },
   "outputs": [],
   "source": [
    "\n",
    "results_longitude = np.zeros((len(indexes),len(years)))\n",
    "results_latitude = np.zeros((len(indexes), len(years)))\n",
    "results_coordinates_x = np.zeros((len(indexes),len(years)))\n",
    "results_coordinates_y = np.zeros((len(indexes),len(years)))\n",
    "results_area = np.zeros((len(indexes),len(years)))\n",
    "for index,year in enumerate(years):\n",
    "    file_name = rasters_path + filename_prefix + year + filename_suffix\n",
    "    src = rasterio.open(file_name)\n",
    "    array = src.read(1)\n",
    "    for i in range(5):\n",
    "        my_class = np.argwhere(array == i)\n",
    "        my_mean = my_class.mean(axis=0)\n",
    "        results_longitude[i, index] = src.xy(int(my_mean[0]), int(my_mean[1]))[0]\n",
    "        results_latitude[i, index] = src.xy(int(my_mean[0]), int(my_mean[1]))[1]\n",
    "        results_coordinates_x[i, index] = int(my_mean[0])\n",
    "        results_coordinates_y[i, index] = int(my_mean[1])\n",
    "        results_area[i, index] = int(my_class.shape[0]*0.03*0.03)\n",
    "    src.close()\n",
    "    print(year)"
   ]
  },
  {
   "cell_type": "markdown",
   "id": "5ed881e5-8560-4572-bf03-c38333c29865",
   "metadata": {},
   "source": [
    "## Compute the areas of the different classes"
   ]
  },
  {
   "cell_type": "code",
   "execution_count": null,
   "id": "358e9da9-205f-46ff-bb55-c657858d75f1",
   "metadata": {
    "tags": []
   },
   "outputs": [],
   "source": [
    "df_area = pd.DataFrame(results_area, index=indexes, columns=years)\n",
    "sum = df_area.sum()\n",
    "sum.name = 'Sum'\n",
    "df_area = df_area.append(sum.transpose())"
   ]
  },
  {
   "cell_type": "markdown",
   "id": "e20987c0-35ef-4c04-b823-7aad035813ce",
   "metadata": {},
   "source": [
    "## Display a table with the area in km<sup>2</sup> of each class for all the years"
   ]
  },
  {
   "cell_type": "code",
   "execution_count": null,
   "id": "a5b90e01-b225-4a26-a422-cf0ffbc28427",
   "metadata": {
    "tags": []
   },
   "outputs": [],
   "source": [
    "display(df_area)"
   ]
  },
  {
   "cell_type": "code",
   "execution_count": null,
   "id": "76afc506-083f-49f8-aabe-b28d39fb79d8",
   "metadata": {
    "tags": []
   },
   "outputs": [],
   "source": [
    "df_coord_x = pd.DataFrame(results_coordinates_x, index=indexes, columns=years)\n",
    "df_coord_y = pd.DataFrame(results_coordinates_y, index=indexes, columns=years)\n",
    "df_long = pd.DataFrame(results_longitude, index=indexes, columns=years)\n",
    "df_lat = pd.DataFrame(results_latitude, index=indexes, columns=years)"
   ]
  },
  {
   "cell_type": "markdown",
   "id": "7dec63c8-f6b9-41d7-a0a6-d165db007780",
   "metadata": {},
   "source": [
    "### Gravity center longitude for the different classes"
   ]
  },
  {
   "cell_type": "code",
   "execution_count": null,
   "id": "7cc09488-4c29-4ac4-9e96-fe7beadd5fb4",
   "metadata": {
    "tags": []
   },
   "outputs": [],
   "source": [
    "display(df_long)"
   ]
  },
  {
   "cell_type": "markdown",
   "id": "abe897d4-c438-4c1b-af79-5fa99e91b543",
   "metadata": {},
   "source": [
    "### Gravity center latitude for the different classes"
   ]
  },
  {
   "cell_type": "code",
   "execution_count": null,
   "id": "beb2384f-9f37-44e0-9f27-479a54066c71",
   "metadata": {
    "tags": []
   },
   "outputs": [],
   "source": [
    "display(df_lat)"
   ]
  },
  {
   "cell_type": "markdown",
   "id": "51142b25-3ce7-429c-b30c-65ba20ed02cc",
   "metadata": {},
   "source": [
    "## Store the dataframes into a csv file to improve the computation"
   ]
  },
  {
   "cell_type": "code",
   "execution_count": null,
   "id": "e9bf00fa-bc46-4bfa-b59e-3feeb64b95ec",
   "metadata": {
    "tags": []
   },
   "outputs": [],
   "source": [
    "df_long.to_csv(\"gc_long.csv\" , index=True, header=True)\n",
    "df_lat.to_csv(\"gc_lat.csv\" , index=True, header=True)\n",
    "df_area.to_csv(\"areas.csv\", index=True, header=True)\n",
    "df_coord_x.to_csv(\"coor_x.csv\", index=True, header=True)\n",
    "df_coord_y.to_csv(\"coor_y.csv\", index=True, header=True)\n",
    "\n"
   ]
  },
  {
   "cell_type": "markdown",
   "id": "cbab86d8-f7b3-42da-97b8-8d71bd624f00",
   "metadata": {},
   "source": [
    "## Read the csv files directly."
   ]
  },
  {
   "cell_type": "code",
   "execution_count": null,
   "id": "7f71f515-b804-41d9-9e62-89f31339a4bb",
   "metadata": {},
   "outputs": [],
   "source": [
    "df_long = pd.read_csv(\"gc_long.csv\")\n",
    "df_lat = pd.read_csv(\"gc_lat.csv\")\n",
    "df_area = pd.read_csv(\"areas.csv\")\n",
    "df_coord_x = pd.read_csv(\"coor_x.csv\")\n",
    "df_coord_y = pd.read_csv(\"coor_y.csv\")\n",
    "    \n",
    "results_coordinates_x = df_coord_x.to_numpy()\n",
    "results_coordinates_x = np.delete(results_coordinates_x, 0, 1)\n",
    "results_coordinates_y = df_coord_y.to_numpy()\n",
    "results_coordinates_y = np.delete(results_coordinates_y, 0, 1)\n"
   ]
  },
  {
   "cell_type": "markdown",
   "id": "a991ad1b-fd85-4d9c-816b-67898cd413ac",
   "metadata": {},
   "source": [
    "### Read a raster in order to use to display the gravity centers"
   ]
  },
  {
   "cell_type": "code",
   "execution_count": null,
   "id": "a2ea6090-aedf-4c80-b132-56f76a1b8296",
   "metadata": {},
   "outputs": [],
   "source": [
    "file_name = rasters_path + filename_prefix + years[0] + filename_suffix\n",
    "src = rasterio.open(file_name)\n",
    "array = src.read(1)\n",
    "array[array != 255] = 0"
   ]
  },
  {
   "cell_type": "markdown",
   "id": "93519ae2-1a12-452a-b6eb-bc3c4b48bd9e",
   "metadata": {},
   "source": [
    "## Display the Gravity Centers for all the classes for all the considered years in the considered raster"
   ]
  },
  {
   "cell_type": "code",
   "execution_count": null,
   "id": "0b742a83-1b94-4d99-b345-98dca6af5eb0",
   "metadata": {},
   "outputs": [],
   "source": [
    "from IPython.display import display, Markdown\n",
    "\n",
    "cmap = ListedColormap([\"lightgrey\", \"lightgrey\", \"lightgrey\", \"lightgrey\", \"lightgrey\", \"white\"])\n",
    "norm = colors.BoundaryNorm([0, 1, 2, 3, 4, 255], 6)\n",
    "colors_gc = [\"yellow\", \"#FFA500\", \"brown\", \"#90EE90\", \"green\"]\n",
    "markers_gc= ['o', '^', '*', 's', '+']\n",
    "\n",
    "\n",
    "\n",
    "\n",
    "for idx, year in enumerate(years):\n",
    "        \n",
    "    display(Markdown(f\"---\"))\n",
    "    display(Markdown(f\"## Gravity Centers position of the 5 classes for the year \" + year))\n",
    "    \n",
    "    plt.imshow(array, cmap=cmap, norm=norm)\n",
    "    for i in range(results_coordinates_x.shape[0]):\n",
    "        plt.scatter(results_coordinates_y[i, idx], results_coordinates_x[i, idx] , s=80, c=colors_gc[i], marker=markers_gc[i], label=indexes[i])\n",
    "    img_title = \"gravity centers of classes for the year \" + year\n",
    "    plt.title(img_title)\n",
    "    legend = plt.legend(loc='lower right')\n",
    "    legend.set_alpha(None)\n",
    "    plt.axis('off')\n",
    "\n",
    "    plt.show()\n",
    "    src.close()\n",
    "    "
   ]
  },
  {
   "cell_type": "markdown",
   "id": "a5b836ba-0535-4e79-b898-49a586de50a0",
   "metadata": {},
   "source": [
    "## Gravity centers localization for all the classes through the years\n"
   ]
  },
  {
   "cell_type": "code",
   "execution_count": null,
   "id": "9e9e7821-83ea-4639-a0a9-e2ba18d0e411",
   "metadata": {},
   "outputs": [],
   "source": [
    "import matplotlib.patches as mpatch\n",
    "import matplotlib.path as mpath\n",
    "\n",
    "cmap = ListedColormap([\"lightgrey\", \"lightgrey\", \"lightgrey\", \"lightgrey\", \"lightgrey\", \"white\"])\n",
    "norm = colors.BoundaryNorm([0, 1, 2, 3, 4, 255], 6)\n",
    "colors_gc = ['#8B0000', 'red', '#FF4500', '#00008B', '#006400']\n",
    "markers_gc= ['*', 'o', 'v', '>', 'P', 's']\n",
    "colors2 = [\"yellow\", \"#FFA500\", \"brown\", \"#90EE90\", \"green\"]\n",
    "\n",
    "fig, ax = plt.subplots()\n",
    "\n",
    "plt.imshow(array, cmap=cmap, norm=norm)\n",
    "\n",
    "\n",
    "\n",
    "\n",
    "for i in range(len(indexes)):\n",
    "    for idx in range(0, len(years)):        \n",
    "        if idx == 2:\n",
    "            plt.scatter(df_coord_y.iloc[i, idx+1], df_coord_x.iloc[i, idx+1], alpha=0.7, s=30,color=colors2[i], marker=markers_gc[idx//2], zorder=2+i, label=indexes[i], edgecolors='k', lw=0.25)            \n",
    "        else:\n",
    "            plt.scatter(df_coord_y.iloc[i, idx+1], df_coord_x.iloc[i, idx+1], alpha=0.7, s=30,color=colors2[i], marker=markers_gc[idx//2], zorder=2+i, edgecolors='k', lw=0.5)\n",
    "\n",
    "\n",
    "legend = plt.legend(loc='lower center', title=\"Classes\")\n",
    "ax.add_artist(legend)\n",
    "\n",
    "\n",
    "h = [plt.plot([],[], color=\"k\", marker=markers_gc[i], ms=8, mec='k', ls=\"\", markeredgewidth=0.25)[0] for i in range(len(years))]\n",
    "plt.legend(handles=h, labels=years,loc='lower left', title=\"Years\")\n",
    "\n",
    "#legend.set_alpha(None)\n",
    "plt.axis('off')\n",
    "plt.savefig('gravity_centers_last.png', dpi=600)\n",
    "plt.show()"
   ]
  },
  {
   "cell_type": "code",
   "execution_count": null,
   "id": "b698a5be-f1c2-45e1-a46a-d4e65ddff361",
   "metadata": {},
   "outputs": [],
   "source": [
    "for i in range(len(indexes)):\n",
    "    display(Markdown(f\"---\"))\n",
    "    display(Markdown(f\"## Gravity Centers movement through the years for the {indexes[i]} class \" ))\n",
    "    \n",
    "    Xgc = []\n",
    "    Ygc = []\n",
    "    for idx in range(0, len(years)):\n",
    "        Xgc.append(df_coord_y.iloc[i, idx+1])\n",
    "        Ygc.append(df_coord_x.iloc[i, idx+1])\n",
    "        plt.scatter(df_coord_y.iloc[i, idx+1], df_coord_x.iloc[i, idx+1], alpha=1, s=250,color=colors2[i], marker=markers_gc[idx], zorder=20-idx, edgecolors='k')\n",
    "        #if idx in [0, len(years_2)-1]:\n",
    "        #    plt.text(df_coord_y.iloc[i, idx+1], df_coord_x.iloc[i, idx+1]-150, years_2[idx], horizontalalignment='center', size='small', color='black')\n",
    "\n",
    "        if idx != len(years) - 1:\n",
    "            plt.plot([df_coord_y.iloc[i, idx+1], df_coord_y.iloc[i, idx+2]], [df_coord_x.iloc[i, idx+1], df_coord_x.iloc[i, idx+2]], alpha=1, linewidth=1,color='black', zorder=1)\n",
    "            \n",
    "    for idx in range(len(years) - 1):\n",
    "        plt.annotate(\"\", xy=((Xgc[idx]+Xgc[idx+1])/2, (Ygc[idx]+Ygc[idx+1])/2), xytext=(Xgc[idx], Ygc[idx]), \n",
    "            arrowprops=dict(arrowstyle=\"->\", mutation_scale=25,  color='0', linewidth=1))\n",
    "    print(i, max(Xgc), min(Xgc), max(Xgc) - min(Xgc))\n",
    "    print(i, max(Ygc), min(Ygc), max(Ygc) - min(Ygc))\n",
    "\n",
    "    plt.gca().invert_yaxis()\n",
    "    \n",
    "    plt.gca().xaxis.set_tick_params(labelbottom=False)\n",
    "    plt.gca().yaxis.set_tick_params(labelleft=False)\n",
    "    \n",
    "    plt.gca().set_xticks([])\n",
    "    plt.gca().set_yticks([])\n",
    "    plt.savefig('gravity_centers_'+ indexes[i]+'.png', dpi=600)\n",
    "    plt.show()"
   ]
  },
  {
   "cell_type": "code",
   "execution_count": null,
   "id": "083eaf68-09e2-4ca3-a827-a4a0f4034128",
   "metadata": {},
   "outputs": [],
   "source": [
    "import math\n",
    "for idx in range(0, len(years) - 1 ):\n",
    "\n",
    "\n",
    "    \n",
    "    for idx2 in range(idx+1, len(years)):\n",
    "        display(Markdown(f\"---\"))\n",
    "        display(Markdown(f\"## The Movement of all the gravity centers from {years[idx]} to {years[idx2]}\" ))\n",
    "        plt.scatter(0, 0, alpha=1, s=200,color='white', marker=markers_gc[idx], zorder=10, edgecolors='0')\n",
    "        for i in range(len(indexes)):\n",
    "            y_dif = df_coord_y.iloc[i, idx2+1] - df_coord_y.iloc[i, idx+1]\n",
    "            x_dif = df_coord_x.iloc[i, idx2+1] - df_coord_x.iloc[i, idx+1]\n",
    "            plt.scatter(y_dif, x_dif, alpha=1, s=200,color=colors2[i], marker=markers_gc[idx+1], zorder=0, edgecolors=colors2[i])\n",
    "            plt.annotate(\"\", xy=(y_dif, x_dif), xytext=(0, 0), \n",
    "                arrowprops=dict(arrowstyle=\"->\", mutation_scale=25,  color=colors2[i], linewidth=3))\n",
    "            print(f\"The gravity center of the {indexes[i]} class moved {round(abs(y_dif)*0.03, 2)} to the {'north' if y_dif > 0 else 'south'} and {round(abs(x_dif)*0.03, 2)} to the {'east' if x_dif < 0 else 'west'}\")\n",
    "        #mean_X = (max(Xgc) + min(Xgc))/2\n",
    "        #mean_Y = (max(Ygc) + min(Ygc))/2\n",
    "        #a = -2.56200316e-01\n",
    "        #plt.axline((0,0),   slope=a, color='grey',linestyle='dashed')\n",
    "        plt.gca().invert_yaxis()\n",
    "\n",
    "        plt.gca().xaxis.set_tick_params(labelbottom=False)\n",
    "        plt.gca().yaxis.set_tick_params(labelleft=False)\n",
    "\n",
    "        plt.gca().set_xticks([])\n",
    "        plt.gca().set_yticks([])\n",
    "        \n",
    "        plt.savefig(f'gravity_centers_movement_from_{years[idx]}_to_{years[idx+1]}.png', dpi=600)\n",
    "        plt.show()"
   ]
  }
 ],
 "metadata": {
  "kernelspec": {
   "display_name": "Python 3 (ipykernel)",
   "language": "python",
   "name": "python3"
  },
  "language_info": {
   "codemirror_mode": {
    "name": "ipython",
    "version": 3
   },
   "file_extension": ".py",
   "mimetype": "text/x-python",
   "name": "python",
   "nbconvert_exporter": "python",
   "pygments_lexer": "ipython3",
   "version": "3.11.6"
  }
 },
 "nbformat": 4,
 "nbformat_minor": 5
}
